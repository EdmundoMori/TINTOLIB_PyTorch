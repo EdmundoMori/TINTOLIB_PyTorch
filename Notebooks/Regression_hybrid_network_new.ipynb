{
  "cells": [
    {
      "cell_type": "markdown",
      "metadata": {
        "id": "view-in-github",
        "colab_type": "text"
      },
      "source": [
        "<a href=\"https://colab.research.google.com/github/EdmundoMori/TINTOLIB_PyTorch/blob/main/Notebooks/Regression_hybrid_network_new.ipynb\" target=\"_parent\"><img src=\"https://colab.research.google.com/assets/colab-badge.svg\" alt=\"Open In Colab\"/></a>"
      ]
    },
    {
      "cell_type": "markdown",
      "metadata": {
        "id": "EybOZ6hSjpCF"
      },
      "source": [
        "<h1><font color=\"#113D68\" size=6>TINTOlib: Converting Tidy Data into Image for Hybrid Neural Networks (HyNN)</font></h1>\n",
        "\n",
        "<h1><font color=\"#113D68\" size=5>Template Regression Machine Learning problem with a Hybrid Neural Networks (CNN+MLP)</font></h1>\n",
        "\n",
        "<br><br>\n",
        "<div style=\"text-align: right\">\n",
        "<font color=\"#113D68\" size=3>Edmundo Mori Orrillo</font><br>\n",
        "\n",
        "</div>\n",
        "\n",
        "---"
      ]
    },
    {
      "cell_type": "markdown",
      "metadata": {
        "id": "2l5nFzsdjpCW"
      },
      "source": [
        "---\n",
        "\n",
        "<a id=\"indice\"></a>\n",
        "<h2><font color=\"#004D7F\" size=5>Index</font></h2>\n",
        "\n",
        "* [0. Context](#section0)\n",
        "* [1. Description](#section1)\n",
        "    * [1.1. Main Features](#section11)\n",
        "    * [1.2. Citation](#section12)\n",
        "    * [1.3. Documentation and License](#section13)\n",
        "* [2. Libraries](#section2)\n",
        "    * [2.1. System setup](#section21)\n",
        "    * [2.2. Invoke the libraries](#section22)\n",
        "* [3. Data processing](#section3)\n",
        "    * [3.1. TINTOlib methods](#section31)\n",
        "    * [3.2. Read the dataset](#section32)\n",
        "    * [3.3. Generate images](#section33)\n",
        "    * [3.4. Read images](#section34)\n",
        "    * [3.5. Mix images and tidy data](#section35)\n",
        "* [4. Pre-modelling phase](#section4)\n",
        "    * [4.1. Data curation](#section41)\n",
        "* [5. Modelling hybrid network with Pytorch](#section5)\n",
        "    * [5.1. Transforming the input into tensors](#section51)\n",
        "    * [5.2. Network architecture designs](#section52)\n",
        "    * [5.3. Hybrid Network Compile and fit](#section53)\n",
        "    * [5.4. Results and Validation](#section54)"
      ]
    },
    {
      "cell_type": "markdown",
      "metadata": {
        "id": "SxTpMExHjpCa"
      },
      "source": [
        "---\n",
        "<a id=\"section0\"></a>\n",
        "# <font color=\"#004D7F\" size=6> 0. Context</font>"
      ]
    },
    {
      "cell_type": "markdown",
      "metadata": {
        "id": "JlVYt3MRrl_V"
      },
      "source": [
        "This is a tutorial on how to read the images created by TINTOlib and pass them to a very simple pretrained Convolutional Neural Network (CNN). The images must already be created by the TINTOlib software. See the documentation in GITHUB for how to create the images from tabular data.\n",
        "\n",
        "Remember that when using CNN you can set the training to be done with GPUs to improve performance."
      ]
    },
    {
      "cell_type": "markdown",
      "metadata": {
        "id": "i3tgsO0BjpCj"
      },
      "source": [
        "<div class=\"alert alert-block alert-info\">\n",
        "    \n",
        "<i class=\"fa fa-info-circle\" aria-hidden=\"true\"></i>\n",
        "You can see all information about TINTOlib in [GitHub](https://github.com/oeg-upm/TINTOlib)"
      ]
    },
    {
      "cell_type": "markdown",
      "metadata": {
        "id": "mVaN8IWPirwr"
      },
      "source": [
        "<div class=\"alert alert-block alert-info\">\n",
        "\n",
        "<i class=\"fa fa-info-circle\" aria-hidden=\"true\"></i>\n",
        "You can see all information about TINTOlib documentation in [PyPI](https://tintolib.readthedocs.io/en/latest/installation.html)"
      ]
    },
    {
      "cell_type": "markdown",
      "metadata": {
        "id": "4RKBgDwzjpCl"
      },
      "source": [
        "---\n",
        "<div style=\"text-align: right\"> <font size=5> <a href=\"#indice\"><i class=\"fa fa-arrow-circle-up\" aria-hidden=\"true\" style=\"color:#004D7F\"></i></a></font></div>\n",
        "\n",
        "---"
      ]
    },
    {
      "cell_type": "markdown",
      "metadata": {
        "id": "kpU7pi6yjpCn"
      },
      "source": [
        "<a id=\"section1\"></a>\n",
        "# <font color=\"#004D7F\" size=6> 1. Description</font>"
      ]
    },
    {
      "cell_type": "markdown",
      "metadata": {
        "id": "NL9RoFkEjpCq"
      },
      "source": [
        "The growing interest in the use of algorithms-based machine learning for predictive tasks has generated a large and diverse development of algorithms. However, it is widely known that not all of these algorithms are adapted to efficient solutions in certain tidy data format datasets. For this reason, novel techniques are currently being developed to convert tidy data into images with the aim of using Convolutional Neural Networks (CNNs). TINTOlib offers the opportunity to convert tidy data into images through several techniques: TINTO, IGTD, REFINED, SuperTML, BarGraph, DistanceMatrix and Combination."
      ]
    },
    {
      "cell_type": "markdown",
      "metadata": {
        "id": "HFrF4C89jpCt"
      },
      "source": [
        "---\n",
        "<a id=\"section11\"></a>\n",
        "# <font color=\"#004D7F\" size=5> 1.1. Main Features</font>"
      ]
    },
    {
      "cell_type": "markdown",
      "metadata": {
        "id": "1gruE0_sjpCu"
      },
      "source": [
        "- Supports all CSV data in **[Tidy Data](https://www.jstatsoft.org/article/view/v059i10)** format.\n",
        "- For now, the algorithm converts tabular data for binary and multi-class classification problems into machine learning.\n",
        "- Input data formats:\n",
        "    - **Tabular files**: The input data could be in **[CSV](https://en.wikipedia.org/wiki/Comma-separated_values)**, taking into account the **[Tidy Data](https://www.jstatsoft.org/article/view/v059i10)** format.\n",
        "    - **Dataframe***: The input data could be in **[Pandas Dataframe](https://pandas.pydata.org/docs/reference/api/pandas.DataFrame.html)**, taking into account the **[Tidy Data](https://www.jstatsoft.org/article/view/v059i10)** format.\n",
        "    - **Tidy Data**: The **target** (variable to be predicted) should be set as the last column of the dataset. Therefore, the first columns will be the features.\n",
        "    - All data must be in numerical form. TINTOlib does not accept data in string or any other non-numeric format.\n",
        "- Runs on **Linux**, **Windows** and **macOS** systems.\n",
        "- Compatible with **[Python](https://www.python.org/)** 3.7 or higher."
      ]
    },
    {
      "cell_type": "markdown",
      "metadata": {
        "id": "At5cvb9Lirw6"
      },
      "source": [
        "---\n",
        "<a id=\"section12\"></a>\n",
        "# <font color=\"#004D7F\" size=5> 1.2. Citation</font>"
      ]
    },
    {
      "cell_type": "markdown",
      "metadata": {
        "id": "WAcloCKZirw7"
      },
      "source": [
        "**TINTOlib** is an python library that makes **Synthetic Images** from [Tidy Data](https://www.jstatsoft.org/article/view/v059i10) (also knows as **Tabular Data**).\n",
        "\n",
        "**Citing TINTO**: If you used TINTO in your work, please cite the **[SoftwareX](https://doi.org/10.1016/j.softx.2023.101391)**:\n",
        "\n",
        "```bib\n",
        "@article{softwarex_TINTO,\n",
        "    title = {TINTO: Converting Tidy Data into Image for Classification\n",
        "            with 2-Dimensional Convolutional Neural Networks},\n",
        "    journal = {SoftwareX},\n",
        "    author = {Manuel Castillo-Cara and Reewos Talla-Chumpitaz and\n",
        "              Raúl García-Castro and Luis Orozco-Barbosa},\n",
        "    year = {2023},\n",
        "    pages = {101391},\n",
        "    issn = {2352-7110},\n",
        "    doi = {https://doi.org/10.1016/j.softx.2023.101391}\n",
        "}\n",
        "```\n",
        "\n",
        "And use-case developed in **[INFFUS Paper](https://doi.org/10.1016/j.inffus.2022.10.011)**\n",
        "\n",
        "```bib\n",
        "@article{inffus_TINTO,\n",
        "    title = {A novel deep learning approach using blurring image\n",
        "            techniques for Bluetooth-based indoor localisation},\n",
        "    journal = {Information Fusion},\n",
        "    author = {Reewos Talla-Chumpitaz and Manuel Castillo-Cara and\n",
        "              Luis Orozco-Barbosa and Raúl García-Castro},\n",
        "    volume = {91},\n",
        "    pages = {173-186},\n",
        "    year = {2023},\n",
        "    issn = {1566-2535},\n",
        "    doi = {https://doi.org/10.1016/j.inffus.2022.10.011}\n",
        "}\n",
        "```"
      ]
    },
    {
      "cell_type": "markdown",
      "metadata": {
        "id": "Tgi8NNWHirw8"
      },
      "source": [
        "---\n",
        "<a id=\"section13\"></a>\n",
        "# <font color=\"#004D7F\" size=5> 1.3. Documentation and License</font>"
      ]
    },
    {
      "cell_type": "markdown",
      "metadata": {
        "id": "An9470Tqirw9"
      },
      "source": [
        "TINTOlib has a wide range of documentation on both GitHub and PiPY.\n",
        "\n",
        "Moreover, TINTOlib is free and open software with Apache 2.0 license."
      ]
    },
    {
      "cell_type": "markdown",
      "metadata": {
        "id": "n2SJRrucirw-"
      },
      "source": [
        "<div class=\"alert alert-block alert-info\">\n",
        "    \n",
        "<i class=\"fa fa-info-circle\" aria-hidden=\"true\"></i>\n",
        "You can see all information about TINTOlib in [GitHub](https://github.com/oeg-upm/TINTOlib)"
      ]
    },
    {
      "cell_type": "markdown",
      "metadata": {
        "id": "upfq7gH3irw_"
      },
      "source": [
        "<div class=\"alert alert-block alert-info\">\n",
        "\n",
        "<i class=\"fa fa-info-circle\" aria-hidden=\"true\"></i>\n",
        "You can see all information about TINTOlib documentation in [PyPI](https://tintolib.readthedocs.io/en/latest/installation.html)"
      ]
    },
    {
      "cell_type": "markdown",
      "metadata": {
        "id": "Z3EzYcjJjpC6"
      },
      "source": [
        "---\n",
        "<div style=\"text-align: right\"> <font size=5> <a href=\"#indice\"><i class=\"fa fa-arrow-circle-up\" aria-hidden=\"true\" style=\"color:#004D7F\"></i></a></font></div>\n",
        "\n",
        "---"
      ]
    },
    {
      "cell_type": "markdown",
      "metadata": {
        "id": "qwYF5A2njpC8"
      },
      "source": [
        "<a id=\"section2\"></a>\n",
        "# <font color=\"#004D7F\" size=6> 2. Libraries</font>"
      ]
    },
    {
      "cell_type": "markdown",
      "metadata": {
        "id": "Hn-_Qzf7irxB"
      },
      "source": [
        "---\n",
        "<a id=\"section21\"></a>\n",
        "# <font color=\"#004D7F\" size=5> 2.1. System setup</font>"
      ]
    },
    {
      "cell_type": "markdown",
      "metadata": {
        "id": "2YGCnZifirxC"
      },
      "source": [
        "Before installing the libraries you must have the `mpi4py` package installed on the native (Linux) system. This link shows how to install it:\n",
        "- Link: [`mpi4py` in Linux](https://www.geeksforgeeks.org/how-to-install-python3-mpi4py-package-on-linux/)\n",
        "\n",
        "For example, in Linux:\n",
        "\n",
        "```\n",
        "    sudo apt-get install python3\n",
        "    sudo apt install python3-pip\n",
        "    sudo apt install python3-mpi4py\n",
        "```\n",
        "\n",
        "If you are in Windows, Mac or, also, Linux, you can install from PyPI if you want:\n",
        "```\n",
        "    sudo pip3 install mpi4py\n",
        "```"
      ]
    },
    {
      "cell_type": "markdown",
      "metadata": {
        "id": "p1Oro1QfirxD"
      },
      "source": [
        "<div class=\"alert alert-block alert-info\">\n",
        "    \n",
        "<i class=\"fa fa-info-circle\" aria-hidden=\"true\"></i>\n",
        "Note that you must **restart the kernel or the system** so that it can load the libraries."
      ]
    },
    {
      "cell_type": "markdown",
      "metadata": {
        "id": "VsMELXdZirxE"
      },
      "source": [
        "Now, once you have installed `mpi4py` you can install the PyPI libraries and dependences."
      ]
    },
    {
      "cell_type": "code",
      "execution_count": 1,
      "metadata": {
        "colab": {
          "base_uri": "https://localhost:8080/"
        },
        "id": "tM2K4vorirxF",
        "outputId": "3600e508-b183-4624-8dbd-194f06dfc5a5"
      },
      "outputs": [
        {
          "output_type": "stream",
          "name": "stdout",
          "text": [
            "Collecting torchmetrics\n",
            "  Downloading torchmetrics-1.3.2-py3-none-any.whl (841 kB)\n",
            "\u001b[2K     \u001b[90m━━━━━━━━━━━━━━━━━━━━━━━━━━━━━━━━━━━━━━━━\u001b[0m \u001b[32m841.5/841.5 kB\u001b[0m \u001b[31m4.9 MB/s\u001b[0m eta \u001b[36m0:00:00\u001b[0m\n",
            "\u001b[?25hCollecting pytorch_lightning\n",
            "  Downloading pytorch_lightning-2.2.2-py3-none-any.whl (801 kB)\n",
            "\u001b[2K     \u001b[90m━━━━━━━━━━━━━━━━━━━━━━━━━━━━━━━━━━━━━━━━\u001b[0m \u001b[32m801.9/801.9 kB\u001b[0m \u001b[31m36.2 MB/s\u001b[0m eta \u001b[36m0:00:00\u001b[0m\n",
            "\u001b[?25hCollecting TINTOlib\n",
            "  Downloading tintolib-0.0.14-py3-none-any.whl (5.2 MB)\n",
            "\u001b[2K     \u001b[90m━━━━━━━━━━━━━━━━━━━━━━━━━━━━━━━━━━━━━━━━\u001b[0m \u001b[32m5.2/5.2 MB\u001b[0m \u001b[31m15.8 MB/s\u001b[0m eta \u001b[36m0:00:00\u001b[0m\n",
            "\u001b[?25hCollecting imblearn\n",
            "  Downloading imblearn-0.0-py2.py3-none-any.whl (1.9 kB)\n",
            "Collecting keras_preprocessing\n",
            "  Downloading Keras_Preprocessing-1.1.2-py2.py3-none-any.whl (42 kB)\n",
            "\u001b[2K     \u001b[90m━━━━━━━━━━━━━━━━━━━━━━━━━━━━━━━━━━━━━━━━\u001b[0m \u001b[32m42.6/42.6 kB\u001b[0m \u001b[31m5.5 MB/s\u001b[0m eta \u001b[36m0:00:00\u001b[0m\n",
            "\u001b[?25hCollecting mpi4py\n",
            "  Downloading mpi4py-3.1.6.tar.gz (2.4 MB)\n",
            "\u001b[2K     \u001b[90m━━━━━━━━━━━━━━━━━━━━━━━━━━━━━━━━━━━━━━━━\u001b[0m \u001b[32m2.4/2.4 MB\u001b[0m \u001b[31m66.3 MB/s\u001b[0m eta \u001b[36m0:00:00\u001b[0m\n",
            "\u001b[?25h  Installing build dependencies ... \u001b[?25l\u001b[?25hdone\n",
            "  Getting requirements to build wheel ... \u001b[?25l\u001b[?25hdone\n",
            "  Preparing metadata (pyproject.toml) ... \u001b[?25l\u001b[?25hdone\n",
            "Requirement already satisfied: numpy>1.20.0 in /usr/local/lib/python3.10/dist-packages (from torchmetrics) (1.25.2)\n",
            "Requirement already satisfied: packaging>17.1 in /usr/local/lib/python3.10/dist-packages (from torchmetrics) (24.0)\n",
            "Requirement already satisfied: torch>=1.10.0 in /usr/local/lib/python3.10/dist-packages (from torchmetrics) (2.2.1+cu121)\n",
            "Collecting lightning-utilities>=0.8.0 (from torchmetrics)\n",
            "  Downloading lightning_utilities-0.11.2-py3-none-any.whl (26 kB)\n",
            "Requirement already satisfied: tqdm>=4.57.0 in /usr/local/lib/python3.10/dist-packages (from pytorch_lightning) (4.66.2)\n",
            "Requirement already satisfied: PyYAML>=5.4 in /usr/local/lib/python3.10/dist-packages (from pytorch_lightning) (6.0.1)\n",
            "Requirement already satisfied: fsspec[http]>=2022.5.0 in /usr/local/lib/python3.10/dist-packages (from pytorch_lightning) (2023.6.0)\n",
            "Requirement already satisfied: typing-extensions>=4.4.0 in /usr/local/lib/python3.10/dist-packages (from pytorch_lightning) (4.11.0)\n",
            "Requirement already satisfied: imbalanced-learn in /usr/local/lib/python3.10/dist-packages (from imblearn) (0.10.1)\n",
            "Requirement already satisfied: six>=1.9.0 in /usr/local/lib/python3.10/dist-packages (from keras_preprocessing) (1.16.0)\n",
            "Requirement already satisfied: requests in /usr/local/lib/python3.10/dist-packages (from fsspec[http]>=2022.5.0->pytorch_lightning) (2.31.0)\n",
            "Requirement already satisfied: aiohttp!=4.0.0a0,!=4.0.0a1 in /usr/local/lib/python3.10/dist-packages (from fsspec[http]>=2022.5.0->pytorch_lightning) (3.9.5)\n",
            "Requirement already satisfied: setuptools in /usr/local/lib/python3.10/dist-packages (from lightning-utilities>=0.8.0->torchmetrics) (67.7.2)\n",
            "Requirement already satisfied: filelock in /usr/local/lib/python3.10/dist-packages (from torch>=1.10.0->torchmetrics) (3.13.4)\n",
            "Requirement already satisfied: sympy in /usr/local/lib/python3.10/dist-packages (from torch>=1.10.0->torchmetrics) (1.12)\n",
            "Requirement already satisfied: networkx in /usr/local/lib/python3.10/dist-packages (from torch>=1.10.0->torchmetrics) (3.3)\n",
            "Requirement already satisfied: jinja2 in /usr/local/lib/python3.10/dist-packages (from torch>=1.10.0->torchmetrics) (3.1.3)\n",
            "Collecting nvidia-cuda-nvrtc-cu12==12.1.105 (from torch>=1.10.0->torchmetrics)\n",
            "  Using cached nvidia_cuda_nvrtc_cu12-12.1.105-py3-none-manylinux1_x86_64.whl (23.7 MB)\n",
            "Collecting nvidia-cuda-runtime-cu12==12.1.105 (from torch>=1.10.0->torchmetrics)\n",
            "  Using cached nvidia_cuda_runtime_cu12-12.1.105-py3-none-manylinux1_x86_64.whl (823 kB)\n",
            "Collecting nvidia-cuda-cupti-cu12==12.1.105 (from torch>=1.10.0->torchmetrics)\n",
            "  Using cached nvidia_cuda_cupti_cu12-12.1.105-py3-none-manylinux1_x86_64.whl (14.1 MB)\n",
            "Collecting nvidia-cudnn-cu12==8.9.2.26 (from torch>=1.10.0->torchmetrics)\n",
            "  Using cached nvidia_cudnn_cu12-8.9.2.26-py3-none-manylinux1_x86_64.whl (731.7 MB)\n",
            "Collecting nvidia-cublas-cu12==12.1.3.1 (from torch>=1.10.0->torchmetrics)\n",
            "  Using cached nvidia_cublas_cu12-12.1.3.1-py3-none-manylinux1_x86_64.whl (410.6 MB)\n",
            "Collecting nvidia-cufft-cu12==11.0.2.54 (from torch>=1.10.0->torchmetrics)\n",
            "  Using cached nvidia_cufft_cu12-11.0.2.54-py3-none-manylinux1_x86_64.whl (121.6 MB)\n",
            "Collecting nvidia-curand-cu12==10.3.2.106 (from torch>=1.10.0->torchmetrics)\n",
            "  Using cached nvidia_curand_cu12-10.3.2.106-py3-none-manylinux1_x86_64.whl (56.5 MB)\n",
            "Collecting nvidia-cusolver-cu12==11.4.5.107 (from torch>=1.10.0->torchmetrics)\n",
            "  Using cached nvidia_cusolver_cu12-11.4.5.107-py3-none-manylinux1_x86_64.whl (124.2 MB)\n",
            "Collecting nvidia-cusparse-cu12==12.1.0.106 (from torch>=1.10.0->torchmetrics)\n",
            "  Using cached nvidia_cusparse_cu12-12.1.0.106-py3-none-manylinux1_x86_64.whl (196.0 MB)\n",
            "Collecting nvidia-nccl-cu12==2.19.3 (from torch>=1.10.0->torchmetrics)\n",
            "  Using cached nvidia_nccl_cu12-2.19.3-py3-none-manylinux1_x86_64.whl (166.0 MB)\n",
            "Collecting nvidia-nvtx-cu12==12.1.105 (from torch>=1.10.0->torchmetrics)\n",
            "  Using cached nvidia_nvtx_cu12-12.1.105-py3-none-manylinux1_x86_64.whl (99 kB)\n",
            "Requirement already satisfied: triton==2.2.0 in /usr/local/lib/python3.10/dist-packages (from torch>=1.10.0->torchmetrics) (2.2.0)\n",
            "Collecting nvidia-nvjitlink-cu12 (from nvidia-cusolver-cu12==11.4.5.107->torch>=1.10.0->torchmetrics)\n",
            "  Using cached nvidia_nvjitlink_cu12-12.4.127-py3-none-manylinux2014_x86_64.whl (21.1 MB)\n",
            "Requirement already satisfied: scipy>=1.3.2 in /usr/local/lib/python3.10/dist-packages (from imbalanced-learn->imblearn) (1.11.4)\n",
            "Requirement already satisfied: scikit-learn>=1.0.2 in /usr/local/lib/python3.10/dist-packages (from imbalanced-learn->imblearn) (1.2.2)\n",
            "Requirement already satisfied: joblib>=1.1.1 in /usr/local/lib/python3.10/dist-packages (from imbalanced-learn->imblearn) (1.4.0)\n",
            "Requirement already satisfied: threadpoolctl>=2.0.0 in /usr/local/lib/python3.10/dist-packages (from imbalanced-learn->imblearn) (3.4.0)\n",
            "Requirement already satisfied: aiosignal>=1.1.2 in /usr/local/lib/python3.10/dist-packages (from aiohttp!=4.0.0a0,!=4.0.0a1->fsspec[http]>=2022.5.0->pytorch_lightning) (1.3.1)\n",
            "Requirement already satisfied: attrs>=17.3.0 in /usr/local/lib/python3.10/dist-packages (from aiohttp!=4.0.0a0,!=4.0.0a1->fsspec[http]>=2022.5.0->pytorch_lightning) (23.2.0)\n",
            "Requirement already satisfied: frozenlist>=1.1.1 in /usr/local/lib/python3.10/dist-packages (from aiohttp!=4.0.0a0,!=4.0.0a1->fsspec[http]>=2022.5.0->pytorch_lightning) (1.4.1)\n",
            "Requirement already satisfied: multidict<7.0,>=4.5 in /usr/local/lib/python3.10/dist-packages (from aiohttp!=4.0.0a0,!=4.0.0a1->fsspec[http]>=2022.5.0->pytorch_lightning) (6.0.5)\n",
            "Requirement already satisfied: yarl<2.0,>=1.0 in /usr/local/lib/python3.10/dist-packages (from aiohttp!=4.0.0a0,!=4.0.0a1->fsspec[http]>=2022.5.0->pytorch_lightning) (1.9.4)\n",
            "Requirement already satisfied: async-timeout<5.0,>=4.0 in /usr/local/lib/python3.10/dist-packages (from aiohttp!=4.0.0a0,!=4.0.0a1->fsspec[http]>=2022.5.0->pytorch_lightning) (4.0.3)\n",
            "Requirement already satisfied: MarkupSafe>=2.0 in /usr/local/lib/python3.10/dist-packages (from jinja2->torch>=1.10.0->torchmetrics) (2.1.5)\n",
            "Requirement already satisfied: charset-normalizer<4,>=2 in /usr/local/lib/python3.10/dist-packages (from requests->fsspec[http]>=2022.5.0->pytorch_lightning) (3.3.2)\n",
            "Requirement already satisfied: idna<4,>=2.5 in /usr/local/lib/python3.10/dist-packages (from requests->fsspec[http]>=2022.5.0->pytorch_lightning) (3.7)\n",
            "Requirement already satisfied: urllib3<3,>=1.21.1 in /usr/local/lib/python3.10/dist-packages (from requests->fsspec[http]>=2022.5.0->pytorch_lightning) (2.0.7)\n",
            "Requirement already satisfied: certifi>=2017.4.17 in /usr/local/lib/python3.10/dist-packages (from requests->fsspec[http]>=2022.5.0->pytorch_lightning) (2024.2.2)\n",
            "Requirement already satisfied: mpmath>=0.19 in /usr/local/lib/python3.10/dist-packages (from sympy->torch>=1.10.0->torchmetrics) (1.3.0)\n",
            "Building wheels for collected packages: mpi4py\n",
            "  Building wheel for mpi4py (pyproject.toml) ... \u001b[?25l\u001b[?25hdone\n",
            "  Created wheel for mpi4py: filename=mpi4py-3.1.6-cp310-cp310-linux_x86_64.whl size=2746290 sha256=bba62f96bee047f2e7e29d2b22fb6ba446092e37046163a93df96187dd761b69\n",
            "  Stored in directory: /root/.cache/pip/wheels/4c/ca/89/8fc1fb1c620afca13bb41c630b1f948bbf446e0aaa4b762e10\n",
            "Successfully built mpi4py\n",
            "Installing collected packages: TINTOlib, nvidia-nvtx-cu12, nvidia-nvjitlink-cu12, nvidia-nccl-cu12, nvidia-curand-cu12, nvidia-cufft-cu12, nvidia-cuda-runtime-cu12, nvidia-cuda-nvrtc-cu12, nvidia-cuda-cupti-cu12, nvidia-cublas-cu12, mpi4py, lightning-utilities, keras_preprocessing, nvidia-cusparse-cu12, nvidia-cudnn-cu12, nvidia-cusolver-cu12, imblearn, torchmetrics, pytorch_lightning\n",
            "Successfully installed TINTOlib-0.0.14 imblearn-0.0 keras_preprocessing-1.1.2 lightning-utilities-0.11.2 mpi4py-3.1.6 nvidia-cublas-cu12-12.1.3.1 nvidia-cuda-cupti-cu12-12.1.105 nvidia-cuda-nvrtc-cu12-12.1.105 nvidia-cuda-runtime-cu12-12.1.105 nvidia-cudnn-cu12-8.9.2.26 nvidia-cufft-cu12-11.0.2.54 nvidia-curand-cu12-10.3.2.106 nvidia-cusolver-cu12-11.4.5.107 nvidia-cusparse-cu12-12.1.0.106 nvidia-nccl-cu12-2.19.3 nvidia-nvjitlink-cu12-12.4.127 nvidia-nvtx-cu12-12.1.105 pytorch_lightning-2.2.2 torchmetrics-1.3.2\n"
          ]
        }
      ],
      "source": [
        "!pip install torchmetrics pytorch_lightning TINTOlib imblearn keras_preprocessing mpi4py"
      ]
    },
    {
      "cell_type": "markdown",
      "metadata": {
        "id": "-OV3PYZxirxK"
      },
      "source": [
        "<div class=\"alert alert-block alert-info\">\n",
        "    \n",
        "<i class=\"fa fa-info-circle\" aria-hidden=\"true\"></i>\n",
        "Note that you must **restart the kernel** so that it can load the libraries."
      ]
    },
    {
      "cell_type": "markdown",
      "metadata": {
        "id": "nKMOKiJXirxL"
      },
      "source": [
        "---\n",
        "<a id=\"section22\"></a>\n",
        "# <font color=\"#004D7F\" size=5> 2.2. Invoke the libraries</font>"
      ]
    },
    {
      "cell_type": "markdown",
      "metadata": {
        "id": "5AdHKnWYsEq_"
      },
      "source": [
        "The first thing we need to do is to declare the libraries"
      ]
    },
    {
      "cell_type": "code",
      "execution_count": 2,
      "metadata": {
        "id": "PeeBbGxlpjFp",
        "scrolled": true
      },
      "outputs": [],
      "source": [
        "import os\n",
        "import pandas as pd\n",
        "import numpy as np\n",
        "from tqdm import tqdm\n",
        "#import cv2\n",
        "import gc\n",
        "import matplotlib.pyplot as plt\n",
        "#import openslide\n",
        "#from openslide.deepzoom import DeepZoomGenerator\n",
        "import tifffile as tifi\n",
        "import sklearn\n",
        "import tensorflow as tf\n",
        "import seaborn as sns\n",
        "from PIL import Image\n",
        "\n",
        "\n",
        "from sklearn.metrics import mean_absolute_error, mean_squared_error, r2_score,mean_absolute_percentage_error\n",
        "from keras_preprocessing.image import ImageDataGenerator\n",
        "from sklearn.model_selection import train_test_split\n",
        "\n",
        "#libreries Pytorch\n",
        "import torch\n",
        "from torch import nn\n",
        "import torch.optim as optim\n",
        "\n",
        "\n",
        "#Models of TINTOlib\n",
        "from TINTOlib.tinto import TINTO\n",
        "from TINTOlib.supertml import SuperTML\n",
        "from TINTOlib.igtd import IGTD\n",
        "from TINTOlib.refined import REFINED\n",
        "from TINTOlib.barGraph import BarGraph\n",
        "from TINTOlib.distanceMatrix import DistanceMatrix\n",
        "from TINTOlib.combination import Combination"
      ]
    },
    {
      "cell_type": "markdown",
      "metadata": {
        "id": "NwS-cKUxjpDQ"
      },
      "source": [
        "---\n",
        "<div style=\"text-align: right\"> <font size=5> <a href=\"#indice\"><i class=\"fa fa-arrow-circle-up\" aria-hidden=\"true\" style=\"color:#004D7F\"></i></a></font></div>\n",
        "\n",
        "---"
      ]
    },
    {
      "cell_type": "markdown",
      "metadata": {
        "id": "aDL4LARWjpDT"
      },
      "source": [
        "<a id=\"section3\"></a>\n",
        "# <font color=\"#004D7F\" size=6> 3. Data processing</font>"
      ]
    },
    {
      "cell_type": "markdown",
      "metadata": {
        "id": "jXcRw78ljpDU"
      },
      "source": [
        "The first thing to do is to read all the images created by TINTO. TINTO creates a folder which contains subfolders corresponding to each target that has the problem. Each image corresponds to a sample of the original dataset."
      ]
    },
    {
      "cell_type": "markdown",
      "metadata": {
        "id": "-3tyEAN5irxT"
      },
      "source": [
        "---\n",
        "<a id=\"section31\"></a>\n",
        "# <font color=\"#004D7F\" size=5> 3.1. TINTOlib methods</font>\n",
        "\n",
        "We prepare the declaration of the classes with the TINTOlib method we want to transform. Note that TINTOlib has several methods and we will have to choose one of them since each method generates different images.\n",
        "\n",
        "In addition, we establish the paths where the dataset is located and also the folder where the images will be created."
      ]
    },
    {
      "cell_type": "markdown",
      "metadata": {
        "id": "Q_fROCY5C__S"
      },
      "source": [
        "<a id=\"section31\"></a>\n",
        "# <font color=\"#004D7F\" size=5> 3.1. Create images with TINTOlib</font>"
      ]
    },
    {
      "cell_type": "code",
      "execution_count": 4,
      "metadata": {
        "id": "oXYAlWzQC__T"
      },
      "outputs": [],
      "source": [
        "#Select the model and the parameters\n",
        "problem_type = \"regression\"\n",
        "#image_model = REFINED(problem= problem_type,hcIterations=5)\n",
        "#image_model = TINTO(problem= problem_type, blur=True)\n",
        "#image_model = IGTD(problem= problem_type)\n",
        "#image_model = BarGraph(problem= problem_type)\n",
        "#image_model = DistanceMatrix(problem= problem_type)\n",
        "image_model = Combination(problem= problem_type)\n",
        "\n",
        "#Define the dataset path and the folder where the images will be saved\n",
        "#dataset_path = \"boston.csv\"\n",
        "#dataset_path = \"DataSet_Regression.csv\"\n",
        "images_folder = \"imagesregression\""
      ]
    },
    {
      "cell_type": "code",
      "source": [
        "!rm -rf imagesregression\n",
        "!mkdir imagesregression"
      ],
      "metadata": {
        "id": "WyNPeXBFG_yd"
      },
      "execution_count": 5,
      "outputs": []
    },
    {
      "cell_type": "markdown",
      "metadata": {
        "id": "Z7PMiFESirxW"
      },
      "source": [
        "<div class=\"alert alert-block alert-info\">\n",
        "\n",
        "<i class=\"fa fa-info-circle\" aria-hidden=\"true\"></i>\n",
        "You can see all information about TINTOlib documentation in [PyPI](https://tintolib.readthedocs.io/en/latest/installation.html)"
      ]
    },
    {
      "cell_type": "markdown",
      "metadata": {
        "id": "QYMxqcb-irxW"
      },
      "source": [
        "---\n",
        "<a id=\"section32\"></a>\n",
        "# <font color=\"#004D7F\" size=5> 3.2. Read the dataset</font>\n",
        "\n",
        "In this part, we proceed to read the dataset according to the path specified above and also standardize the name that the target will have."
      ]
    },
    {
      "cell_type": "code",
      "execution_count": 15,
      "metadata": {
        "colab": {
          "base_uri": "https://localhost:8080/",
          "height": 179
        },
        "id": "Wwz5UevnirxX",
        "outputId": "4c2a973f-d5b4-42a0-d361-2feeda7b7662"
      },
      "outputs": [
        {
          "output_type": "stream",
          "name": "stdout",
          "text": [
            "(35000, 91)\n"
          ]
        },
        {
          "output_type": "execute_result",
          "data": {
            "text/plain": [
              "   Humidity  Wind_Speed  Wind_Bearing  Visibility  Pressure  \\\n",
              "0      0.68     10.9802          77.0     15.8263   1020.95   \n",
              "1      0.78     26.5811         149.0     11.0446   1012.23   \n",
              "\n",
              "   Partly_cloudy_starting_in_the_morning  \\\n",
              "0                                      0   \n",
              "1                                      0   \n",
              "\n",
              "   Mostly_cloudy_throughout_the_day_and_breezy_starting_in_the_morning_continuing_until_afternoon_  \\\n",
              "0                                                  0                                                 \n",
              "1                                                  0                                                 \n",
              "\n",
              "   Overcast_throughout_the_day_and_breezy_starting_in_the_evening_  \\\n",
              "0                                                  0                 \n",
              "1                                                  0                 \n",
              "\n",
              "   Light_rain_in_the_morning_and_afternoon_  \\\n",
              "0                                         0   \n",
              "1                                         0   \n",
              "\n",
              "   Breezy_starting_overnight_continuing_until_afternoon_and_foggy_starting_in_the_morning_continuing_until_evening_  \\\n",
              "0                                                  0                                                                  \n",
              "1                                                  0                                                                  \n",
              "\n",
              "   ...  Foggy_until_afternoon_  \\\n",
              "0  ...                       0   \n",
              "1  ...                       0   \n",
              "\n",
              "   Breezy_starting_in_the_morning_continuing_until_afternoon_and_mostly_cloudy_starting_in_the_morning  \\\n",
              "0                                                  0                                                     \n",
              "1                                                  0                                                     \n",
              "\n",
              "   Mostly_cloudy_throughout_the_day_and_breezy_starting_in_the_morning_continuing_until_evening_  \\\n",
              "0                                                  0                                               \n",
              "1                                                  0                                               \n",
              "\n",
              "   Foggy_until_night_  Mostly_cloudy_starting_in_the_evening_  \\\n",
              "0                   0                                       0   \n",
              "1                   0                                       0   \n",
              "\n",
              "   Foggy_starting_in_the_morning_continuing_until_afternoon_  \\\n",
              "0                                                  0           \n",
              "1                                                  0           \n",
              "\n",
              "   Mostly_cloudy_until_night_and_breezy_starting_in_the_afternoon_continuing_until_evening_  \\\n",
              "0                                                  0                                          \n",
              "1                                                  0                                          \n",
              "\n",
              "   NI  Overcast  Flag_Target  \n",
              "0   0         0     8.261111  \n",
              "1   0         1     4.788889  \n",
              "\n",
              "[2 rows x 91 columns]"
            ],
            "text/html": [
              "\n",
              "  <div id=\"df-505f6568-940b-47bb-8e92-630e18b5644b\" class=\"colab-df-container\">\n",
              "    <div>\n",
              "<style scoped>\n",
              "    .dataframe tbody tr th:only-of-type {\n",
              "        vertical-align: middle;\n",
              "    }\n",
              "\n",
              "    .dataframe tbody tr th {\n",
              "        vertical-align: top;\n",
              "    }\n",
              "\n",
              "    .dataframe thead th {\n",
              "        text-align: right;\n",
              "    }\n",
              "</style>\n",
              "<table border=\"1\" class=\"dataframe\">\n",
              "  <thead>\n",
              "    <tr style=\"text-align: right;\">\n",
              "      <th></th>\n",
              "      <th>Humidity</th>\n",
              "      <th>Wind_Speed</th>\n",
              "      <th>Wind_Bearing</th>\n",
              "      <th>Visibility</th>\n",
              "      <th>Pressure</th>\n",
              "      <th>Partly_cloudy_starting_in_the_morning</th>\n",
              "      <th>Mostly_cloudy_throughout_the_day_and_breezy_starting_in_the_morning_continuing_until_afternoon_</th>\n",
              "      <th>Overcast_throughout_the_day_and_breezy_starting_in_the_evening_</th>\n",
              "      <th>Light_rain_in_the_morning_and_afternoon_</th>\n",
              "      <th>Breezy_starting_overnight_continuing_until_afternoon_and_foggy_starting_in_the_morning_continuing_until_evening_</th>\n",
              "      <th>...</th>\n",
              "      <th>Foggy_until_afternoon_</th>\n",
              "      <th>Breezy_starting_in_the_morning_continuing_until_afternoon_and_mostly_cloudy_starting_in_the_morning</th>\n",
              "      <th>Mostly_cloudy_throughout_the_day_and_breezy_starting_in_the_morning_continuing_until_evening_</th>\n",
              "      <th>Foggy_until_night_</th>\n",
              "      <th>Mostly_cloudy_starting_in_the_evening_</th>\n",
              "      <th>Foggy_starting_in_the_morning_continuing_until_afternoon_</th>\n",
              "      <th>Mostly_cloudy_until_night_and_breezy_starting_in_the_afternoon_continuing_until_evening_</th>\n",
              "      <th>NI</th>\n",
              "      <th>Overcast</th>\n",
              "      <th>Flag_Target</th>\n",
              "    </tr>\n",
              "  </thead>\n",
              "  <tbody>\n",
              "    <tr>\n",
              "      <th>0</th>\n",
              "      <td>0.68</td>\n",
              "      <td>10.9802</td>\n",
              "      <td>77.0</td>\n",
              "      <td>15.8263</td>\n",
              "      <td>1020.95</td>\n",
              "      <td>0</td>\n",
              "      <td>0</td>\n",
              "      <td>0</td>\n",
              "      <td>0</td>\n",
              "      <td>0</td>\n",
              "      <td>...</td>\n",
              "      <td>0</td>\n",
              "      <td>0</td>\n",
              "      <td>0</td>\n",
              "      <td>0</td>\n",
              "      <td>0</td>\n",
              "      <td>0</td>\n",
              "      <td>0</td>\n",
              "      <td>0</td>\n",
              "      <td>0</td>\n",
              "      <td>8.261111</td>\n",
              "    </tr>\n",
              "    <tr>\n",
              "      <th>1</th>\n",
              "      <td>0.78</td>\n",
              "      <td>26.5811</td>\n",
              "      <td>149.0</td>\n",
              "      <td>11.0446</td>\n",
              "      <td>1012.23</td>\n",
              "      <td>0</td>\n",
              "      <td>0</td>\n",
              "      <td>0</td>\n",
              "      <td>0</td>\n",
              "      <td>0</td>\n",
              "      <td>...</td>\n",
              "      <td>0</td>\n",
              "      <td>0</td>\n",
              "      <td>0</td>\n",
              "      <td>0</td>\n",
              "      <td>0</td>\n",
              "      <td>0</td>\n",
              "      <td>0</td>\n",
              "      <td>0</td>\n",
              "      <td>1</td>\n",
              "      <td>4.788889</td>\n",
              "    </tr>\n",
              "  </tbody>\n",
              "</table>\n",
              "<p>2 rows × 91 columns</p>\n",
              "</div>\n",
              "    <div class=\"colab-df-buttons\">\n",
              "\n",
              "  <div class=\"colab-df-container\">\n",
              "    <button class=\"colab-df-convert\" onclick=\"convertToInteractive('df-505f6568-940b-47bb-8e92-630e18b5644b')\"\n",
              "            title=\"Convert this dataframe to an interactive table.\"\n",
              "            style=\"display:none;\">\n",
              "\n",
              "  <svg xmlns=\"http://www.w3.org/2000/svg\" height=\"24px\" viewBox=\"0 -960 960 960\">\n",
              "    <path d=\"M120-120v-720h720v720H120Zm60-500h600v-160H180v160Zm220 220h160v-160H400v160Zm0 220h160v-160H400v160ZM180-400h160v-160H180v160Zm440 0h160v-160H620v160ZM180-180h160v-160H180v160Zm440 0h160v-160H620v160Z\"/>\n",
              "  </svg>\n",
              "    </button>\n",
              "\n",
              "  <style>\n",
              "    .colab-df-container {\n",
              "      display:flex;\n",
              "      gap: 12px;\n",
              "    }\n",
              "\n",
              "    .colab-df-convert {\n",
              "      background-color: #E8F0FE;\n",
              "      border: none;\n",
              "      border-radius: 50%;\n",
              "      cursor: pointer;\n",
              "      display: none;\n",
              "      fill: #1967D2;\n",
              "      height: 32px;\n",
              "      padding: 0 0 0 0;\n",
              "      width: 32px;\n",
              "    }\n",
              "\n",
              "    .colab-df-convert:hover {\n",
              "      background-color: #E2EBFA;\n",
              "      box-shadow: 0px 1px 2px rgba(60, 64, 67, 0.3), 0px 1px 3px 1px rgba(60, 64, 67, 0.15);\n",
              "      fill: #174EA6;\n",
              "    }\n",
              "\n",
              "    .colab-df-buttons div {\n",
              "      margin-bottom: 4px;\n",
              "    }\n",
              "\n",
              "    [theme=dark] .colab-df-convert {\n",
              "      background-color: #3B4455;\n",
              "      fill: #D2E3FC;\n",
              "    }\n",
              "\n",
              "    [theme=dark] .colab-df-convert:hover {\n",
              "      background-color: #434B5C;\n",
              "      box-shadow: 0px 1px 3px 1px rgba(0, 0, 0, 0.15);\n",
              "      filter: drop-shadow(0px 1px 2px rgba(0, 0, 0, 0.3));\n",
              "      fill: #FFFFFF;\n",
              "    }\n",
              "  </style>\n",
              "\n",
              "    <script>\n",
              "      const buttonEl =\n",
              "        document.querySelector('#df-505f6568-940b-47bb-8e92-630e18b5644b button.colab-df-convert');\n",
              "      buttonEl.style.display =\n",
              "        google.colab.kernel.accessAllowed ? 'block' : 'none';\n",
              "\n",
              "      async function convertToInteractive(key) {\n",
              "        const element = document.querySelector('#df-505f6568-940b-47bb-8e92-630e18b5644b');\n",
              "        const dataTable =\n",
              "          await google.colab.kernel.invokeFunction('convertToInteractive',\n",
              "                                                    [key], {});\n",
              "        if (!dataTable) return;\n",
              "\n",
              "        const docLinkHtml = 'Like what you see? Visit the ' +\n",
              "          '<a target=\"_blank\" href=https://colab.research.google.com/notebooks/data_table.ipynb>data table notebook</a>'\n",
              "          + ' to learn more about interactive tables.';\n",
              "        element.innerHTML = '';\n",
              "        dataTable['output_type'] = 'display_data';\n",
              "        await google.colab.output.renderOutput(dataTable, element);\n",
              "        const docLink = document.createElement('div');\n",
              "        docLink.innerHTML = docLinkHtml;\n",
              "        element.appendChild(docLink);\n",
              "      }\n",
              "    </script>\n",
              "  </div>\n",
              "\n",
              "\n",
              "<div id=\"df-cea18a5a-2784-4543-8791-30d6a31786b7\">\n",
              "  <button class=\"colab-df-quickchart\" onclick=\"quickchart('df-cea18a5a-2784-4543-8791-30d6a31786b7')\"\n",
              "            title=\"Suggest charts\"\n",
              "            style=\"display:none;\">\n",
              "\n",
              "<svg xmlns=\"http://www.w3.org/2000/svg\" height=\"24px\"viewBox=\"0 0 24 24\"\n",
              "     width=\"24px\">\n",
              "    <g>\n",
              "        <path d=\"M19 3H5c-1.1 0-2 .9-2 2v14c0 1.1.9 2 2 2h14c1.1 0 2-.9 2-2V5c0-1.1-.9-2-2-2zM9 17H7v-7h2v7zm4 0h-2V7h2v10zm4 0h-2v-4h2v4z\"/>\n",
              "    </g>\n",
              "</svg>\n",
              "  </button>\n",
              "\n",
              "<style>\n",
              "  .colab-df-quickchart {\n",
              "      --bg-color: #E8F0FE;\n",
              "      --fill-color: #1967D2;\n",
              "      --hover-bg-color: #E2EBFA;\n",
              "      --hover-fill-color: #174EA6;\n",
              "      --disabled-fill-color: #AAA;\n",
              "      --disabled-bg-color: #DDD;\n",
              "  }\n",
              "\n",
              "  [theme=dark] .colab-df-quickchart {\n",
              "      --bg-color: #3B4455;\n",
              "      --fill-color: #D2E3FC;\n",
              "      --hover-bg-color: #434B5C;\n",
              "      --hover-fill-color: #FFFFFF;\n",
              "      --disabled-bg-color: #3B4455;\n",
              "      --disabled-fill-color: #666;\n",
              "  }\n",
              "\n",
              "  .colab-df-quickchart {\n",
              "    background-color: var(--bg-color);\n",
              "    border: none;\n",
              "    border-radius: 50%;\n",
              "    cursor: pointer;\n",
              "    display: none;\n",
              "    fill: var(--fill-color);\n",
              "    height: 32px;\n",
              "    padding: 0;\n",
              "    width: 32px;\n",
              "  }\n",
              "\n",
              "  .colab-df-quickchart:hover {\n",
              "    background-color: var(--hover-bg-color);\n",
              "    box-shadow: 0 1px 2px rgba(60, 64, 67, 0.3), 0 1px 3px 1px rgba(60, 64, 67, 0.15);\n",
              "    fill: var(--button-hover-fill-color);\n",
              "  }\n",
              "\n",
              "  .colab-df-quickchart-complete:disabled,\n",
              "  .colab-df-quickchart-complete:disabled:hover {\n",
              "    background-color: var(--disabled-bg-color);\n",
              "    fill: var(--disabled-fill-color);\n",
              "    box-shadow: none;\n",
              "  }\n",
              "\n",
              "  .colab-df-spinner {\n",
              "    border: 2px solid var(--fill-color);\n",
              "    border-color: transparent;\n",
              "    border-bottom-color: var(--fill-color);\n",
              "    animation:\n",
              "      spin 1s steps(1) infinite;\n",
              "  }\n",
              "\n",
              "  @keyframes spin {\n",
              "    0% {\n",
              "      border-color: transparent;\n",
              "      border-bottom-color: var(--fill-color);\n",
              "      border-left-color: var(--fill-color);\n",
              "    }\n",
              "    20% {\n",
              "      border-color: transparent;\n",
              "      border-left-color: var(--fill-color);\n",
              "      border-top-color: var(--fill-color);\n",
              "    }\n",
              "    30% {\n",
              "      border-color: transparent;\n",
              "      border-left-color: var(--fill-color);\n",
              "      border-top-color: var(--fill-color);\n",
              "      border-right-color: var(--fill-color);\n",
              "    }\n",
              "    40% {\n",
              "      border-color: transparent;\n",
              "      border-right-color: var(--fill-color);\n",
              "      border-top-color: var(--fill-color);\n",
              "    }\n",
              "    60% {\n",
              "      border-color: transparent;\n",
              "      border-right-color: var(--fill-color);\n",
              "    }\n",
              "    80% {\n",
              "      border-color: transparent;\n",
              "      border-right-color: var(--fill-color);\n",
              "      border-bottom-color: var(--fill-color);\n",
              "    }\n",
              "    90% {\n",
              "      border-color: transparent;\n",
              "      border-bottom-color: var(--fill-color);\n",
              "    }\n",
              "  }\n",
              "</style>\n",
              "\n",
              "  <script>\n",
              "    async function quickchart(key) {\n",
              "      const quickchartButtonEl =\n",
              "        document.querySelector('#' + key + ' button');\n",
              "      quickchartButtonEl.disabled = true;  // To prevent multiple clicks.\n",
              "      quickchartButtonEl.classList.add('colab-df-spinner');\n",
              "      try {\n",
              "        const charts = await google.colab.kernel.invokeFunction(\n",
              "            'suggestCharts', [key], {});\n",
              "      } catch (error) {\n",
              "        console.error('Error during call to suggestCharts:', error);\n",
              "      }\n",
              "      quickchartButtonEl.classList.remove('colab-df-spinner');\n",
              "      quickchartButtonEl.classList.add('colab-df-quickchart-complete');\n",
              "    }\n",
              "    (() => {\n",
              "      let quickchartButtonEl =\n",
              "        document.querySelector('#df-cea18a5a-2784-4543-8791-30d6a31786b7 button');\n",
              "      quickchartButtonEl.style.display =\n",
              "        google.colab.kernel.accessAllowed ? 'block' : 'none';\n",
              "    })();\n",
              "  </script>\n",
              "</div>\n",
              "\n",
              "    </div>\n",
              "  </div>\n"
            ],
            "application/vnd.google.colaboratory.intrinsic+json": {
              "type": "dataframe",
              "variable_name": "df_input"
            }
          },
          "metadata": {},
          "execution_count": 15
        }
      ],
      "source": [
        "#Read CSV\n",
        "#df = pd.read_csv(dataset_path)\n",
        "#Read CSV\n",
        "url_github = 'https://raw.githubusercontent.com/EdmundoMori/TINTOLIB_PyTorch/main/DataSets/DataSet_Regression.csv'\n",
        "df = pd.read_csv(url_github,sep = \"|\").drop(*['Unnamed: 0'],axis = 1)\n",
        "df_input = df.fillna(0).copy()\n",
        "print(df_input.shape)\n",
        "df_input.head(2)"
      ]
    },
    {
      "cell_type": "code",
      "source": [
        "df_input.to_csv('DataSet_RegressionMuestra.csv',sep = '|')"
      ],
      "metadata": {
        "id": "HMUucMxJ1M9g"
      },
      "execution_count": 12,
      "outputs": []
    },
    {
      "cell_type": "markdown",
      "metadata": {
        "id": "acC4jCxeirxZ"
      },
      "source": [
        "---\n",
        "<a id=\"section33\"></a>\n",
        "# <font color=\"#004D7F\" size=5> 3.3. Generate images</font>\n",
        "\n",
        "Now we can generate the images with the `generateImages()` generic function. Likewise, we create a dataset that will have the path of each of the samples with the corresponding image created for it.\n",
        "\n",
        "Note that each image is created based on a row, therefore, each numerical sample of the dataset will correspond to a particular image. In other words, we will have the same number of images as samples/rows."
      ]
    },
    {
      "cell_type": "code",
      "execution_count": 13,
      "metadata": {
        "colab": {
          "base_uri": "https://localhost:8080/"
        },
        "id": "cerdfl_1irxZ",
        "outputId": "0ee3327b-4357-42ca-8c7a-ffac4096b71d"
      },
      "outputs": [
        {
          "output_type": "stream",
          "name": "stdout",
          "text": [
            "imagesregression/regression.csv\n"
          ]
        }
      ],
      "source": [
        "#Generate thet images\n",
        "image_model.generateImages(df_input, images_folder)\n",
        "img_paths = os.path.join(images_folder,problem_type+\".csv\")\n",
        "\n",
        "print(img_paths)"
      ]
    },
    {
      "cell_type": "markdown",
      "metadata": {
        "id": "klS9PZsUjpDV"
      },
      "source": [
        "---\n",
        "<a id=\"section34\"></a>\n",
        "# <font color=\"#004D7F\" size=5> 3.4. Read Images</font>\n",
        "\n",
        "Now, we read the created images"
      ]
    },
    {
      "cell_type": "code",
      "execution_count": 16,
      "metadata": {
        "id": "rvHDCZ-Iirx1"
      },
      "outputs": [],
      "source": [
        "imgs = pd.read_csv(img_paths)\n",
        "\n",
        "#imgs[\"images\"]= images_folder + \"\\\\\" + imgs[\"images\"]\n",
        "imgs[\"images\"]= images_folder + \"/\" + imgs[\"images\"]"
      ]
    },
    {
      "cell_type": "markdown",
      "metadata": {
        "id": "hlQqeha1irx7"
      },
      "source": [
        "---\n",
        "<a id=\"section35\"></a>\n",
        "# <font color=\"#004D7F\" size=5> 3.5. Mix images and tidy data</font>\n",
        "\n",
        "Since we are going to use hybrid networks, i.e. create a model in which we join a CNN for the images and a MLP for the tabular data, we are going to join it in order to integrate all the data in our hybrid model.\n"
      ]
    },
    {
      "cell_type": "code",
      "execution_count": 17,
      "metadata": {
        "colab": {
          "base_uri": "https://localhost:8080/",
          "height": 161
        },
        "id": "_xhAV2O_irx9",
        "outputId": "1f9218cc-4e82-4da6-f524-7030fe3704da"
      },
      "outputs": [
        {
          "output_type": "execute_result",
          "data": {
            "text/plain": [
              "   Humidity  Wind_Speed  Wind_Bearing  Visibility  Pressure  \\\n",
              "0      0.68    0.334150      0.216292       0.983  0.984257   \n",
              "1      0.78    0.808917      0.418539       0.686  0.975850   \n",
              "\n",
              "   Partly_cloudy_starting_in_the_morning  \\\n",
              "0                                    0.0   \n",
              "1                                    0.0   \n",
              "\n",
              "   Mostly_cloudy_throughout_the_day_and_breezy_starting_in_the_morning_continuing_until_afternoon_  \\\n",
              "0                                                0.0                                                 \n",
              "1                                                0.0                                                 \n",
              "\n",
              "   Overcast_throughout_the_day_and_breezy_starting_in_the_evening_  \\\n",
              "0                                                0.0                 \n",
              "1                                                0.0                 \n",
              "\n",
              "   Light_rain_in_the_morning_and_afternoon_  \\\n",
              "0                                       0.0   \n",
              "1                                       0.0   \n",
              "\n",
              "   Breezy_starting_overnight_continuing_until_afternoon_and_foggy_starting_in_the_morning_continuing_until_evening_  \\\n",
              "0                                                0.0                                                                  \n",
              "1                                                0.0                                                                  \n",
              "\n",
              "   ...  Foggy_until_afternoon_  \\\n",
              "0  ...                     0.0   \n",
              "1  ...                     0.0   \n",
              "\n",
              "   Breezy_starting_in_the_morning_continuing_until_afternoon_and_mostly_cloudy_starting_in_the_morning  \\\n",
              "0                                                0.0                                                     \n",
              "1                                                0.0                                                     \n",
              "\n",
              "   Mostly_cloudy_throughout_the_day_and_breezy_starting_in_the_morning_continuing_until_evening_  \\\n",
              "0                                                0.0                                               \n",
              "1                                                0.0                                               \n",
              "\n",
              "   Foggy_until_night_  Mostly_cloudy_starting_in_the_evening_  \\\n",
              "0                 0.0                                     0.0   \n",
              "1                 0.0                                     0.0   \n",
              "\n",
              "   Foggy_starting_in_the_morning_continuing_until_afternoon_  \\\n",
              "0                                                0.0           \n",
              "1                                                0.0           \n",
              "\n",
              "   Mostly_cloudy_until_night_and_breezy_starting_in_the_afternoon_continuing_until_evening_  \\\n",
              "0                                                0.0                                          \n",
              "1                                                0.0                                          \n",
              "\n",
              "    NI  Overcast  Flag_Target  \n",
              "0  0.0       0.0     8.261111  \n",
              "1  0.0       1.0     4.788889  \n",
              "\n",
              "[2 rows x 91 columns]"
            ],
            "text/html": [
              "\n",
              "  <div id=\"df-0bda4f62-b13d-482f-be70-e13d0e1895e9\" class=\"colab-df-container\">\n",
              "    <div>\n",
              "<style scoped>\n",
              "    .dataframe tbody tr th:only-of-type {\n",
              "        vertical-align: middle;\n",
              "    }\n",
              "\n",
              "    .dataframe tbody tr th {\n",
              "        vertical-align: top;\n",
              "    }\n",
              "\n",
              "    .dataframe thead th {\n",
              "        text-align: right;\n",
              "    }\n",
              "</style>\n",
              "<table border=\"1\" class=\"dataframe\">\n",
              "  <thead>\n",
              "    <tr style=\"text-align: right;\">\n",
              "      <th></th>\n",
              "      <th>Humidity</th>\n",
              "      <th>Wind_Speed</th>\n",
              "      <th>Wind_Bearing</th>\n",
              "      <th>Visibility</th>\n",
              "      <th>Pressure</th>\n",
              "      <th>Partly_cloudy_starting_in_the_morning</th>\n",
              "      <th>Mostly_cloudy_throughout_the_day_and_breezy_starting_in_the_morning_continuing_until_afternoon_</th>\n",
              "      <th>Overcast_throughout_the_day_and_breezy_starting_in_the_evening_</th>\n",
              "      <th>Light_rain_in_the_morning_and_afternoon_</th>\n",
              "      <th>Breezy_starting_overnight_continuing_until_afternoon_and_foggy_starting_in_the_morning_continuing_until_evening_</th>\n",
              "      <th>...</th>\n",
              "      <th>Foggy_until_afternoon_</th>\n",
              "      <th>Breezy_starting_in_the_morning_continuing_until_afternoon_and_mostly_cloudy_starting_in_the_morning</th>\n",
              "      <th>Mostly_cloudy_throughout_the_day_and_breezy_starting_in_the_morning_continuing_until_evening_</th>\n",
              "      <th>Foggy_until_night_</th>\n",
              "      <th>Mostly_cloudy_starting_in_the_evening_</th>\n",
              "      <th>Foggy_starting_in_the_morning_continuing_until_afternoon_</th>\n",
              "      <th>Mostly_cloudy_until_night_and_breezy_starting_in_the_afternoon_continuing_until_evening_</th>\n",
              "      <th>NI</th>\n",
              "      <th>Overcast</th>\n",
              "      <th>Flag_Target</th>\n",
              "    </tr>\n",
              "  </thead>\n",
              "  <tbody>\n",
              "    <tr>\n",
              "      <th>0</th>\n",
              "      <td>0.68</td>\n",
              "      <td>0.334150</td>\n",
              "      <td>0.216292</td>\n",
              "      <td>0.983</td>\n",
              "      <td>0.984257</td>\n",
              "      <td>0.0</td>\n",
              "      <td>0.0</td>\n",
              "      <td>0.0</td>\n",
              "      <td>0.0</td>\n",
              "      <td>0.0</td>\n",
              "      <td>...</td>\n",
              "      <td>0.0</td>\n",
              "      <td>0.0</td>\n",
              "      <td>0.0</td>\n",
              "      <td>0.0</td>\n",
              "      <td>0.0</td>\n",
              "      <td>0.0</td>\n",
              "      <td>0.0</td>\n",
              "      <td>0.0</td>\n",
              "      <td>0.0</td>\n",
              "      <td>8.261111</td>\n",
              "    </tr>\n",
              "    <tr>\n",
              "      <th>1</th>\n",
              "      <td>0.78</td>\n",
              "      <td>0.808917</td>\n",
              "      <td>0.418539</td>\n",
              "      <td>0.686</td>\n",
              "      <td>0.975850</td>\n",
              "      <td>0.0</td>\n",
              "      <td>0.0</td>\n",
              "      <td>0.0</td>\n",
              "      <td>0.0</td>\n",
              "      <td>0.0</td>\n",
              "      <td>...</td>\n",
              "      <td>0.0</td>\n",
              "      <td>0.0</td>\n",
              "      <td>0.0</td>\n",
              "      <td>0.0</td>\n",
              "      <td>0.0</td>\n",
              "      <td>0.0</td>\n",
              "      <td>0.0</td>\n",
              "      <td>0.0</td>\n",
              "      <td>1.0</td>\n",
              "      <td>4.788889</td>\n",
              "    </tr>\n",
              "  </tbody>\n",
              "</table>\n",
              "<p>2 rows × 91 columns</p>\n",
              "</div>\n",
              "    <div class=\"colab-df-buttons\">\n",
              "\n",
              "  <div class=\"colab-df-container\">\n",
              "    <button class=\"colab-df-convert\" onclick=\"convertToInteractive('df-0bda4f62-b13d-482f-be70-e13d0e1895e9')\"\n",
              "            title=\"Convert this dataframe to an interactive table.\"\n",
              "            style=\"display:none;\">\n",
              "\n",
              "  <svg xmlns=\"http://www.w3.org/2000/svg\" height=\"24px\" viewBox=\"0 -960 960 960\">\n",
              "    <path d=\"M120-120v-720h720v720H120Zm60-500h600v-160H180v160Zm220 220h160v-160H400v160Zm0 220h160v-160H400v160ZM180-400h160v-160H180v160Zm440 0h160v-160H620v160ZM180-180h160v-160H180v160Zm440 0h160v-160H620v160Z\"/>\n",
              "  </svg>\n",
              "    </button>\n",
              "\n",
              "  <style>\n",
              "    .colab-df-container {\n",
              "      display:flex;\n",
              "      gap: 12px;\n",
              "    }\n",
              "\n",
              "    .colab-df-convert {\n",
              "      background-color: #E8F0FE;\n",
              "      border: none;\n",
              "      border-radius: 50%;\n",
              "      cursor: pointer;\n",
              "      display: none;\n",
              "      fill: #1967D2;\n",
              "      height: 32px;\n",
              "      padding: 0 0 0 0;\n",
              "      width: 32px;\n",
              "    }\n",
              "\n",
              "    .colab-df-convert:hover {\n",
              "      background-color: #E2EBFA;\n",
              "      box-shadow: 0px 1px 2px rgba(60, 64, 67, 0.3), 0px 1px 3px 1px rgba(60, 64, 67, 0.15);\n",
              "      fill: #174EA6;\n",
              "    }\n",
              "\n",
              "    .colab-df-buttons div {\n",
              "      margin-bottom: 4px;\n",
              "    }\n",
              "\n",
              "    [theme=dark] .colab-df-convert {\n",
              "      background-color: #3B4455;\n",
              "      fill: #D2E3FC;\n",
              "    }\n",
              "\n",
              "    [theme=dark] .colab-df-convert:hover {\n",
              "      background-color: #434B5C;\n",
              "      box-shadow: 0px 1px 3px 1px rgba(0, 0, 0, 0.15);\n",
              "      filter: drop-shadow(0px 1px 2px rgba(0, 0, 0, 0.3));\n",
              "      fill: #FFFFFF;\n",
              "    }\n",
              "  </style>\n",
              "\n",
              "    <script>\n",
              "      const buttonEl =\n",
              "        document.querySelector('#df-0bda4f62-b13d-482f-be70-e13d0e1895e9 button.colab-df-convert');\n",
              "      buttonEl.style.display =\n",
              "        google.colab.kernel.accessAllowed ? 'block' : 'none';\n",
              "\n",
              "      async function convertToInteractive(key) {\n",
              "        const element = document.querySelector('#df-0bda4f62-b13d-482f-be70-e13d0e1895e9');\n",
              "        const dataTable =\n",
              "          await google.colab.kernel.invokeFunction('convertToInteractive',\n",
              "                                                    [key], {});\n",
              "        if (!dataTable) return;\n",
              "\n",
              "        const docLinkHtml = 'Like what you see? Visit the ' +\n",
              "          '<a target=\"_blank\" href=https://colab.research.google.com/notebooks/data_table.ipynb>data table notebook</a>'\n",
              "          + ' to learn more about interactive tables.';\n",
              "        element.innerHTML = '';\n",
              "        dataTable['output_type'] = 'display_data';\n",
              "        await google.colab.output.renderOutput(dataTable, element);\n",
              "        const docLink = document.createElement('div');\n",
              "        docLink.innerHTML = docLinkHtml;\n",
              "        element.appendChild(docLink);\n",
              "      }\n",
              "    </script>\n",
              "  </div>\n",
              "\n",
              "\n",
              "<div id=\"df-76f269ad-225b-418b-8023-8eea012b2ac0\">\n",
              "  <button class=\"colab-df-quickchart\" onclick=\"quickchart('df-76f269ad-225b-418b-8023-8eea012b2ac0')\"\n",
              "            title=\"Suggest charts\"\n",
              "            style=\"display:none;\">\n",
              "\n",
              "<svg xmlns=\"http://www.w3.org/2000/svg\" height=\"24px\"viewBox=\"0 0 24 24\"\n",
              "     width=\"24px\">\n",
              "    <g>\n",
              "        <path d=\"M19 3H5c-1.1 0-2 .9-2 2v14c0 1.1.9 2 2 2h14c1.1 0 2-.9 2-2V5c0-1.1-.9-2-2-2zM9 17H7v-7h2v7zm4 0h-2V7h2v10zm4 0h-2v-4h2v4z\"/>\n",
              "    </g>\n",
              "</svg>\n",
              "  </button>\n",
              "\n",
              "<style>\n",
              "  .colab-df-quickchart {\n",
              "      --bg-color: #E8F0FE;\n",
              "      --fill-color: #1967D2;\n",
              "      --hover-bg-color: #E2EBFA;\n",
              "      --hover-fill-color: #174EA6;\n",
              "      --disabled-fill-color: #AAA;\n",
              "      --disabled-bg-color: #DDD;\n",
              "  }\n",
              "\n",
              "  [theme=dark] .colab-df-quickchart {\n",
              "      --bg-color: #3B4455;\n",
              "      --fill-color: #D2E3FC;\n",
              "      --hover-bg-color: #434B5C;\n",
              "      --hover-fill-color: #FFFFFF;\n",
              "      --disabled-bg-color: #3B4455;\n",
              "      --disabled-fill-color: #666;\n",
              "  }\n",
              "\n",
              "  .colab-df-quickchart {\n",
              "    background-color: var(--bg-color);\n",
              "    border: none;\n",
              "    border-radius: 50%;\n",
              "    cursor: pointer;\n",
              "    display: none;\n",
              "    fill: var(--fill-color);\n",
              "    height: 32px;\n",
              "    padding: 0;\n",
              "    width: 32px;\n",
              "  }\n",
              "\n",
              "  .colab-df-quickchart:hover {\n",
              "    background-color: var(--hover-bg-color);\n",
              "    box-shadow: 0 1px 2px rgba(60, 64, 67, 0.3), 0 1px 3px 1px rgba(60, 64, 67, 0.15);\n",
              "    fill: var(--button-hover-fill-color);\n",
              "  }\n",
              "\n",
              "  .colab-df-quickchart-complete:disabled,\n",
              "  .colab-df-quickchart-complete:disabled:hover {\n",
              "    background-color: var(--disabled-bg-color);\n",
              "    fill: var(--disabled-fill-color);\n",
              "    box-shadow: none;\n",
              "  }\n",
              "\n",
              "  .colab-df-spinner {\n",
              "    border: 2px solid var(--fill-color);\n",
              "    border-color: transparent;\n",
              "    border-bottom-color: var(--fill-color);\n",
              "    animation:\n",
              "      spin 1s steps(1) infinite;\n",
              "  }\n",
              "\n",
              "  @keyframes spin {\n",
              "    0% {\n",
              "      border-color: transparent;\n",
              "      border-bottom-color: var(--fill-color);\n",
              "      border-left-color: var(--fill-color);\n",
              "    }\n",
              "    20% {\n",
              "      border-color: transparent;\n",
              "      border-left-color: var(--fill-color);\n",
              "      border-top-color: var(--fill-color);\n",
              "    }\n",
              "    30% {\n",
              "      border-color: transparent;\n",
              "      border-left-color: var(--fill-color);\n",
              "      border-top-color: var(--fill-color);\n",
              "      border-right-color: var(--fill-color);\n",
              "    }\n",
              "    40% {\n",
              "      border-color: transparent;\n",
              "      border-right-color: var(--fill-color);\n",
              "      border-top-color: var(--fill-color);\n",
              "    }\n",
              "    60% {\n",
              "      border-color: transparent;\n",
              "      border-right-color: var(--fill-color);\n",
              "    }\n",
              "    80% {\n",
              "      border-color: transparent;\n",
              "      border-right-color: var(--fill-color);\n",
              "      border-bottom-color: var(--fill-color);\n",
              "    }\n",
              "    90% {\n",
              "      border-color: transparent;\n",
              "      border-bottom-color: var(--fill-color);\n",
              "    }\n",
              "  }\n",
              "</style>\n",
              "\n",
              "  <script>\n",
              "    async function quickchart(key) {\n",
              "      const quickchartButtonEl =\n",
              "        document.querySelector('#' + key + ' button');\n",
              "      quickchartButtonEl.disabled = true;  // To prevent multiple clicks.\n",
              "      quickchartButtonEl.classList.add('colab-df-spinner');\n",
              "      try {\n",
              "        const charts = await google.colab.kernel.invokeFunction(\n",
              "            'suggestCharts', [key], {});\n",
              "      } catch (error) {\n",
              "        console.error('Error during call to suggestCharts:', error);\n",
              "      }\n",
              "      quickchartButtonEl.classList.remove('colab-df-spinner');\n",
              "      quickchartButtonEl.classList.add('colab-df-quickchart-complete');\n",
              "    }\n",
              "    (() => {\n",
              "      let quickchartButtonEl =\n",
              "        document.querySelector('#df-76f269ad-225b-418b-8023-8eea012b2ac0 button');\n",
              "      quickchartButtonEl.style.display =\n",
              "        google.colab.kernel.accessAllowed ? 'block' : 'none';\n",
              "    })();\n",
              "  </script>\n",
              "</div>\n",
              "\n",
              "    </div>\n",
              "  </div>\n"
            ],
            "application/vnd.google.colaboratory.intrinsic+json": {
              "type": "dataframe",
              "variable_name": "df_normalized"
            }
          },
          "metadata": {},
          "execution_count": 17
        }
      ],
      "source": [
        "# Select all the attributes to normalize\n",
        "columns_to_normalize = df.columns[:-1]\n",
        "\n",
        "# Normalize between 0 and 1\n",
        "df_normalized = (df[columns_to_normalize] - df[columns_to_normalize].min()) / (df[columns_to_normalize].max() - df[columns_to_normalize].min())\n",
        "\n",
        "# Combine the attributes and the label\n",
        "df_normalized = pd.concat([df_normalized, df[df.columns[-1]]], axis=1)\n",
        "\n",
        "df_normalized.head(2)"
      ]
    },
    {
      "cell_type": "markdown",
      "metadata": {
        "id": "NMOZxejEirx_"
      },
      "source": [
        "Combine the images and tidy data in the same dataframe, split attributes and objective value"
      ]
    },
    {
      "cell_type": "code",
      "source": [
        "imgs"
      ],
      "metadata": {
        "colab": {
          "base_uri": "https://localhost:8080/",
          "height": 424
        },
        "id": "fe3NDhcGK2ld",
        "outputId": "63638768-7d10-4e9e-a9bb-8c7bd2dfe50f"
      },
      "execution_count": 18,
      "outputs": [
        {
          "output_type": "execute_result",
          "data": {
            "text/plain": [
              "                                   images     values\n",
              "0      imagesregression/images/000000.png   8.261111\n",
              "1      imagesregression/images/000001.png   4.788889\n",
              "2      imagesregression/images/000002.png   3.894444\n",
              "3      imagesregression/images/000003.png   1.111111\n",
              "4      imagesregression/images/000004.png  22.222222\n",
              "...                                   ...        ...\n",
              "34995  imagesregression/images/034995.png  23.911111\n",
              "34996  imagesregression/images/034996.png  -2.311111\n",
              "34997  imagesregression/images/034997.png   3.916667\n",
              "34998  imagesregression/images/034998.png  15.722222\n",
              "34999  imagesregression/images/034999.png   1.111111\n",
              "\n",
              "[35000 rows x 2 columns]"
            ],
            "text/html": [
              "\n",
              "  <div id=\"df-9a4012ab-4965-4477-a711-fb0e85d35f5a\" class=\"colab-df-container\">\n",
              "    <div>\n",
              "<style scoped>\n",
              "    .dataframe tbody tr th:only-of-type {\n",
              "        vertical-align: middle;\n",
              "    }\n",
              "\n",
              "    .dataframe tbody tr th {\n",
              "        vertical-align: top;\n",
              "    }\n",
              "\n",
              "    .dataframe thead th {\n",
              "        text-align: right;\n",
              "    }\n",
              "</style>\n",
              "<table border=\"1\" class=\"dataframe\">\n",
              "  <thead>\n",
              "    <tr style=\"text-align: right;\">\n",
              "      <th></th>\n",
              "      <th>images</th>\n",
              "      <th>values</th>\n",
              "    </tr>\n",
              "  </thead>\n",
              "  <tbody>\n",
              "    <tr>\n",
              "      <th>0</th>\n",
              "      <td>imagesregression/images/000000.png</td>\n",
              "      <td>8.261111</td>\n",
              "    </tr>\n",
              "    <tr>\n",
              "      <th>1</th>\n",
              "      <td>imagesregression/images/000001.png</td>\n",
              "      <td>4.788889</td>\n",
              "    </tr>\n",
              "    <tr>\n",
              "      <th>2</th>\n",
              "      <td>imagesregression/images/000002.png</td>\n",
              "      <td>3.894444</td>\n",
              "    </tr>\n",
              "    <tr>\n",
              "      <th>3</th>\n",
              "      <td>imagesregression/images/000003.png</td>\n",
              "      <td>1.111111</td>\n",
              "    </tr>\n",
              "    <tr>\n",
              "      <th>4</th>\n",
              "      <td>imagesregression/images/000004.png</td>\n",
              "      <td>22.222222</td>\n",
              "    </tr>\n",
              "    <tr>\n",
              "      <th>...</th>\n",
              "      <td>...</td>\n",
              "      <td>...</td>\n",
              "    </tr>\n",
              "    <tr>\n",
              "      <th>34995</th>\n",
              "      <td>imagesregression/images/034995.png</td>\n",
              "      <td>23.911111</td>\n",
              "    </tr>\n",
              "    <tr>\n",
              "      <th>34996</th>\n",
              "      <td>imagesregression/images/034996.png</td>\n",
              "      <td>-2.311111</td>\n",
              "    </tr>\n",
              "    <tr>\n",
              "      <th>34997</th>\n",
              "      <td>imagesregression/images/034997.png</td>\n",
              "      <td>3.916667</td>\n",
              "    </tr>\n",
              "    <tr>\n",
              "      <th>34998</th>\n",
              "      <td>imagesregression/images/034998.png</td>\n",
              "      <td>15.722222</td>\n",
              "    </tr>\n",
              "    <tr>\n",
              "      <th>34999</th>\n",
              "      <td>imagesregression/images/034999.png</td>\n",
              "      <td>1.111111</td>\n",
              "    </tr>\n",
              "  </tbody>\n",
              "</table>\n",
              "<p>35000 rows × 2 columns</p>\n",
              "</div>\n",
              "    <div class=\"colab-df-buttons\">\n",
              "\n",
              "  <div class=\"colab-df-container\">\n",
              "    <button class=\"colab-df-convert\" onclick=\"convertToInteractive('df-9a4012ab-4965-4477-a711-fb0e85d35f5a')\"\n",
              "            title=\"Convert this dataframe to an interactive table.\"\n",
              "            style=\"display:none;\">\n",
              "\n",
              "  <svg xmlns=\"http://www.w3.org/2000/svg\" height=\"24px\" viewBox=\"0 -960 960 960\">\n",
              "    <path d=\"M120-120v-720h720v720H120Zm60-500h600v-160H180v160Zm220 220h160v-160H400v160Zm0 220h160v-160H400v160ZM180-400h160v-160H180v160Zm440 0h160v-160H620v160ZM180-180h160v-160H180v160Zm440 0h160v-160H620v160Z\"/>\n",
              "  </svg>\n",
              "    </button>\n",
              "\n",
              "  <style>\n",
              "    .colab-df-container {\n",
              "      display:flex;\n",
              "      gap: 12px;\n",
              "    }\n",
              "\n",
              "    .colab-df-convert {\n",
              "      background-color: #E8F0FE;\n",
              "      border: none;\n",
              "      border-radius: 50%;\n",
              "      cursor: pointer;\n",
              "      display: none;\n",
              "      fill: #1967D2;\n",
              "      height: 32px;\n",
              "      padding: 0 0 0 0;\n",
              "      width: 32px;\n",
              "    }\n",
              "\n",
              "    .colab-df-convert:hover {\n",
              "      background-color: #E2EBFA;\n",
              "      box-shadow: 0px 1px 2px rgba(60, 64, 67, 0.3), 0px 1px 3px 1px rgba(60, 64, 67, 0.15);\n",
              "      fill: #174EA6;\n",
              "    }\n",
              "\n",
              "    .colab-df-buttons div {\n",
              "      margin-bottom: 4px;\n",
              "    }\n",
              "\n",
              "    [theme=dark] .colab-df-convert {\n",
              "      background-color: #3B4455;\n",
              "      fill: #D2E3FC;\n",
              "    }\n",
              "\n",
              "    [theme=dark] .colab-df-convert:hover {\n",
              "      background-color: #434B5C;\n",
              "      box-shadow: 0px 1px 3px 1px rgba(0, 0, 0, 0.15);\n",
              "      filter: drop-shadow(0px 1px 2px rgba(0, 0, 0, 0.3));\n",
              "      fill: #FFFFFF;\n",
              "    }\n",
              "  </style>\n",
              "\n",
              "    <script>\n",
              "      const buttonEl =\n",
              "        document.querySelector('#df-9a4012ab-4965-4477-a711-fb0e85d35f5a button.colab-df-convert');\n",
              "      buttonEl.style.display =\n",
              "        google.colab.kernel.accessAllowed ? 'block' : 'none';\n",
              "\n",
              "      async function convertToInteractive(key) {\n",
              "        const element = document.querySelector('#df-9a4012ab-4965-4477-a711-fb0e85d35f5a');\n",
              "        const dataTable =\n",
              "          await google.colab.kernel.invokeFunction('convertToInteractive',\n",
              "                                                    [key], {});\n",
              "        if (!dataTable) return;\n",
              "\n",
              "        const docLinkHtml = 'Like what you see? Visit the ' +\n",
              "          '<a target=\"_blank\" href=https://colab.research.google.com/notebooks/data_table.ipynb>data table notebook</a>'\n",
              "          + ' to learn more about interactive tables.';\n",
              "        element.innerHTML = '';\n",
              "        dataTable['output_type'] = 'display_data';\n",
              "        await google.colab.output.renderOutput(dataTable, element);\n",
              "        const docLink = document.createElement('div');\n",
              "        docLink.innerHTML = docLinkHtml;\n",
              "        element.appendChild(docLink);\n",
              "      }\n",
              "    </script>\n",
              "  </div>\n",
              "\n",
              "\n",
              "<div id=\"df-87fcf8d1-8e3b-414f-b360-1d19a4c7a284\">\n",
              "  <button class=\"colab-df-quickchart\" onclick=\"quickchart('df-87fcf8d1-8e3b-414f-b360-1d19a4c7a284')\"\n",
              "            title=\"Suggest charts\"\n",
              "            style=\"display:none;\">\n",
              "\n",
              "<svg xmlns=\"http://www.w3.org/2000/svg\" height=\"24px\"viewBox=\"0 0 24 24\"\n",
              "     width=\"24px\">\n",
              "    <g>\n",
              "        <path d=\"M19 3H5c-1.1 0-2 .9-2 2v14c0 1.1.9 2 2 2h14c1.1 0 2-.9 2-2V5c0-1.1-.9-2-2-2zM9 17H7v-7h2v7zm4 0h-2V7h2v10zm4 0h-2v-4h2v4z\"/>\n",
              "    </g>\n",
              "</svg>\n",
              "  </button>\n",
              "\n",
              "<style>\n",
              "  .colab-df-quickchart {\n",
              "      --bg-color: #E8F0FE;\n",
              "      --fill-color: #1967D2;\n",
              "      --hover-bg-color: #E2EBFA;\n",
              "      --hover-fill-color: #174EA6;\n",
              "      --disabled-fill-color: #AAA;\n",
              "      --disabled-bg-color: #DDD;\n",
              "  }\n",
              "\n",
              "  [theme=dark] .colab-df-quickchart {\n",
              "      --bg-color: #3B4455;\n",
              "      --fill-color: #D2E3FC;\n",
              "      --hover-bg-color: #434B5C;\n",
              "      --hover-fill-color: #FFFFFF;\n",
              "      --disabled-bg-color: #3B4455;\n",
              "      --disabled-fill-color: #666;\n",
              "  }\n",
              "\n",
              "  .colab-df-quickchart {\n",
              "    background-color: var(--bg-color);\n",
              "    border: none;\n",
              "    border-radius: 50%;\n",
              "    cursor: pointer;\n",
              "    display: none;\n",
              "    fill: var(--fill-color);\n",
              "    height: 32px;\n",
              "    padding: 0;\n",
              "    width: 32px;\n",
              "  }\n",
              "\n",
              "  .colab-df-quickchart:hover {\n",
              "    background-color: var(--hover-bg-color);\n",
              "    box-shadow: 0 1px 2px rgba(60, 64, 67, 0.3), 0 1px 3px 1px rgba(60, 64, 67, 0.15);\n",
              "    fill: var(--button-hover-fill-color);\n",
              "  }\n",
              "\n",
              "  .colab-df-quickchart-complete:disabled,\n",
              "  .colab-df-quickchart-complete:disabled:hover {\n",
              "    background-color: var(--disabled-bg-color);\n",
              "    fill: var(--disabled-fill-color);\n",
              "    box-shadow: none;\n",
              "  }\n",
              "\n",
              "  .colab-df-spinner {\n",
              "    border: 2px solid var(--fill-color);\n",
              "    border-color: transparent;\n",
              "    border-bottom-color: var(--fill-color);\n",
              "    animation:\n",
              "      spin 1s steps(1) infinite;\n",
              "  }\n",
              "\n",
              "  @keyframes spin {\n",
              "    0% {\n",
              "      border-color: transparent;\n",
              "      border-bottom-color: var(--fill-color);\n",
              "      border-left-color: var(--fill-color);\n",
              "    }\n",
              "    20% {\n",
              "      border-color: transparent;\n",
              "      border-left-color: var(--fill-color);\n",
              "      border-top-color: var(--fill-color);\n",
              "    }\n",
              "    30% {\n",
              "      border-color: transparent;\n",
              "      border-left-color: var(--fill-color);\n",
              "      border-top-color: var(--fill-color);\n",
              "      border-right-color: var(--fill-color);\n",
              "    }\n",
              "    40% {\n",
              "      border-color: transparent;\n",
              "      border-right-color: var(--fill-color);\n",
              "      border-top-color: var(--fill-color);\n",
              "    }\n",
              "    60% {\n",
              "      border-color: transparent;\n",
              "      border-right-color: var(--fill-color);\n",
              "    }\n",
              "    80% {\n",
              "      border-color: transparent;\n",
              "      border-right-color: var(--fill-color);\n",
              "      border-bottom-color: var(--fill-color);\n",
              "    }\n",
              "    90% {\n",
              "      border-color: transparent;\n",
              "      border-bottom-color: var(--fill-color);\n",
              "    }\n",
              "  }\n",
              "</style>\n",
              "\n",
              "  <script>\n",
              "    async function quickchart(key) {\n",
              "      const quickchartButtonEl =\n",
              "        document.querySelector('#' + key + ' button');\n",
              "      quickchartButtonEl.disabled = true;  // To prevent multiple clicks.\n",
              "      quickchartButtonEl.classList.add('colab-df-spinner');\n",
              "      try {\n",
              "        const charts = await google.colab.kernel.invokeFunction(\n",
              "            'suggestCharts', [key], {});\n",
              "      } catch (error) {\n",
              "        console.error('Error during call to suggestCharts:', error);\n",
              "      }\n",
              "      quickchartButtonEl.classList.remove('colab-df-spinner');\n",
              "      quickchartButtonEl.classList.add('colab-df-quickchart-complete');\n",
              "    }\n",
              "    (() => {\n",
              "      let quickchartButtonEl =\n",
              "        document.querySelector('#df-87fcf8d1-8e3b-414f-b360-1d19a4c7a284 button');\n",
              "      quickchartButtonEl.style.display =\n",
              "        google.colab.kernel.accessAllowed ? 'block' : 'none';\n",
              "    })();\n",
              "  </script>\n",
              "</div>\n",
              "\n",
              "  <div id=\"id_d4e40515-58db-4ed6-b0d5-f66da17cd577\">\n",
              "    <style>\n",
              "      .colab-df-generate {\n",
              "        background-color: #E8F0FE;\n",
              "        border: none;\n",
              "        border-radius: 50%;\n",
              "        cursor: pointer;\n",
              "        display: none;\n",
              "        fill: #1967D2;\n",
              "        height: 32px;\n",
              "        padding: 0 0 0 0;\n",
              "        width: 32px;\n",
              "      }\n",
              "\n",
              "      .colab-df-generate:hover {\n",
              "        background-color: #E2EBFA;\n",
              "        box-shadow: 0px 1px 2px rgba(60, 64, 67, 0.3), 0px 1px 3px 1px rgba(60, 64, 67, 0.15);\n",
              "        fill: #174EA6;\n",
              "      }\n",
              "\n",
              "      [theme=dark] .colab-df-generate {\n",
              "        background-color: #3B4455;\n",
              "        fill: #D2E3FC;\n",
              "      }\n",
              "\n",
              "      [theme=dark] .colab-df-generate:hover {\n",
              "        background-color: #434B5C;\n",
              "        box-shadow: 0px 1px 3px 1px rgba(0, 0, 0, 0.15);\n",
              "        filter: drop-shadow(0px 1px 2px rgba(0, 0, 0, 0.3));\n",
              "        fill: #FFFFFF;\n",
              "      }\n",
              "    </style>\n",
              "    <button class=\"colab-df-generate\" onclick=\"generateWithVariable('imgs')\"\n",
              "            title=\"Generate code using this dataframe.\"\n",
              "            style=\"display:none;\">\n",
              "\n",
              "  <svg xmlns=\"http://www.w3.org/2000/svg\" height=\"24px\"viewBox=\"0 0 24 24\"\n",
              "       width=\"24px\">\n",
              "    <path d=\"M7,19H8.4L18.45,9,17,7.55,7,17.6ZM5,21V16.75L18.45,3.32a2,2,0,0,1,2.83,0l1.4,1.43a1.91,1.91,0,0,1,.58,1.4,1.91,1.91,0,0,1-.58,1.4L9.25,21ZM18.45,9,17,7.55Zm-12,3A5.31,5.31,0,0,0,4.9,8.1,5.31,5.31,0,0,0,1,6.5,5.31,5.31,0,0,0,4.9,4.9,5.31,5.31,0,0,0,6.5,1,5.31,5.31,0,0,0,8.1,4.9,5.31,5.31,0,0,0,12,6.5,5.46,5.46,0,0,0,6.5,12Z\"/>\n",
              "  </svg>\n",
              "    </button>\n",
              "    <script>\n",
              "      (() => {\n",
              "      const buttonEl =\n",
              "        document.querySelector('#id_d4e40515-58db-4ed6-b0d5-f66da17cd577 button.colab-df-generate');\n",
              "      buttonEl.style.display =\n",
              "        google.colab.kernel.accessAllowed ? 'block' : 'none';\n",
              "\n",
              "      buttonEl.onclick = () => {\n",
              "        google.colab.notebook.generateWithVariable('imgs');\n",
              "      }\n",
              "      })();\n",
              "    </script>\n",
              "  </div>\n",
              "\n",
              "    </div>\n",
              "  </div>\n"
            ],
            "application/vnd.google.colaboratory.intrinsic+json": {
              "type": "dataframe",
              "variable_name": "imgs",
              "summary": "{\n  \"name\": \"imgs\",\n  \"rows\": 35000,\n  \"fields\": [\n    {\n      \"column\": \"images\",\n      \"properties\": {\n        \"dtype\": \"string\",\n        \"num_unique_values\": 35000,\n        \"samples\": [\n          \"imagesregression/images/017813.png\",\n          \"imagesregression/images/006857.png\",\n          \"imagesregression/images/007672.png\"\n        ],\n        \"semantic_type\": \"\",\n        \"description\": \"\"\n      }\n    },\n    {\n      \"column\": \"values\",\n      \"properties\": {\n        \"dtype\": \"number\",\n        \"std\": 9.544638091271686,\n        \"min\": -21.822222222222223,\n        \"max\": 32.755555555555546,\n        \"num_unique_values\": 6067,\n        \"samples\": [\n          27.794444444444448,\n          24.83333333333333,\n          -0.0333333333333326\n        ],\n        \"semantic_type\": \"\",\n        \"description\": \"\"\n      }\n    }\n  ]\n}"
            }
          },
          "metadata": {},
          "execution_count": 18
        }
      ]
    },
    {
      "cell_type": "code",
      "execution_count": 19,
      "metadata": {
        "colab": {
          "base_uri": "https://localhost:8080/"
        },
        "id": "ipVyd33JiryA",
        "outputId": "11861f3a-78b7-4431-8e85-d69402f2ee5e"
      },
      "outputs": [
        {
          "output_type": "stream",
          "name": "stdout",
          "text": [
            "0         8.261111\n",
            "1         4.788889\n",
            "2         3.894444\n",
            "3         1.111111\n",
            "4        22.222222\n",
            "           ...    \n",
            "34995    23.911111\n",
            "34996    -2.311111\n",
            "34997     3.916667\n",
            "34998    15.722222\n",
            "34999     1.111111\n",
            "Name: values, Length: 35000, dtype: float64\n"
          ]
        }
      ],
      "source": [
        "combined_dataset = df_normalized.copy()\n",
        "combined_dataset['images'] = list(imgs['images'])\n",
        "combined_dataset['values'] = list(imgs['values'])\n",
        "#Se busca predecir la temperatura\n",
        "df_x = combined_dataset.drop(var_target,axis=1).drop(\"values\",axis=1)\n",
        "df_y = combined_dataset[\"values\"]\n",
        "\n",
        "print(df_y)"
      ]
    },
    {
      "cell_type": "markdown",
      "metadata": {
        "id": "_haEKIo7jpD1"
      },
      "source": [
        "---\n",
        "<div style=\"text-align: right\"> <font size=5> <a href=\"#indice\"><i class=\"fa fa-arrow-circle-up\" aria-hidden=\"true\" style=\"color:#004D7F\"></i></a></font></div>\n",
        "\n",
        "---"
      ]
    },
    {
      "cell_type": "markdown",
      "metadata": {
        "id": "uF1lJWbojpD3"
      },
      "source": [
        "<a id=\"section4\"></a>\n",
        "# <font color=\"#004D7F\" size=6> 4. Pre-modelling phase</font>"
      ]
    },
    {
      "cell_type": "markdown",
      "metadata": {
        "id": "zg_Ef8MxiryD"
      },
      "source": [
        "Once the data is ready, we load it into memory with an iterator in order to pass it to the CNN."
      ]
    },
    {
      "cell_type": "markdown",
      "metadata": {
        "id": "UwtEi_pkiryE"
      },
      "source": [
        "---\n",
        "<a id=\"section41\"></a>\n",
        "# <font color=\"#004D7F\" size=5> 4.1. Data curation</font>\n",
        "\n",
        "Note that each method generates images of **different pixel size**. For example:\n",
        "- `TINTO` method has a parameter that you can specify the size in pixels which by default is 20.\n",
        "- Other parameters such as `Combined` generates the size automatically and you must obtain them from the _shape_ of the images."
      ]
    },
    {
      "cell_type": "markdown",
      "metadata": {
        "id": "5F_w0k0QiryF"
      },
      "source": [
        "<div class=\"alert alert-block alert-info\">\n",
        "\n",
        "<i class=\"fa fa-info-circle\" aria-hidden=\"true\"></i>\n",
        "You can see all information about TINTOlib documentation in [PyPI](https://tintolib.readthedocs.io/en/latest/installation.html)"
      ]
    },
    {
      "cell_type": "code",
      "execution_count": 20,
      "metadata": {
        "id": "Lunw0fs0iryG"
      },
      "outputs": [],
      "source": [
        "pixels = 30"
      ]
    },
    {
      "cell_type": "markdown",
      "metadata": {
        "id": "1xOw2lzRiryI"
      },
      "source": [
        "Split in train/test/validation.\n",
        "\n",
        "Note that the partitioning of the images is also performed, in addition to the tabular data."
      ]
    },
    {
      "cell_type": "code",
      "execution_count": 21,
      "metadata": {
        "colab": {
          "base_uri": "https://localhost:8080/"
        },
        "id": "veReOdAyiryJ",
        "outputId": "c0fb4ddb-8b16-45ed-8703-d2d2ec3706fa"
      },
      "outputs": [
        {
          "output_type": "stream",
          "name": "stdout",
          "text": [
            "Images shape:  (30, 30, 3)\n",
            "Attributres:  90\n",
            "Image size (pixels): 30\n"
          ]
        }
      ],
      "source": [
        "import cv2\n",
        "X_train, X_val, y_train, y_val = train_test_split(df_x, df_y, test_size = 0.40, random_state = 123)\n",
        "X_val, X_test, y_val, y_test = train_test_split(X_val, y_val, test_size = 0.50, random_state = 123)\n",
        "\n",
        "#TIDY DATA SPLITTED\n",
        "X_train_num = X_train.drop(\"images\",axis=1)\n",
        "X_val_num = X_val.drop(\"images\",axis=1)\n",
        "X_test_num = X_test.drop(\"images\",axis=1)\n",
        "\n",
        "#IMAGES\n",
        "# For 3 canal (RGB)\n",
        "X_train_img = np.array([cv2.resize(cv2.imread(img),(pixels,pixels)) for img in X_train[\"images\"]])\n",
        "X_val_img = np.array([cv2.resize(cv2.imread(img),(pixels,pixels)) for img in X_val[\"images\"]])\n",
        "X_test_img = np.array([cv2.resize(cv2.imread(img),(pixels,pixels)) for img in X_test[\"images\"]])\n",
        "\n",
        "# For 1 canal (GRAY SCALE)\n",
        "\"\"\"X_train_img = np.array([cv2.imread(img,cv2.IMREAD_GRAYSCALE) for img in X_train[\"images\"]])\n",
        "X_val_img = np.array([cv2.imread(img,cv2.IMREAD_GRAYSCALE) for img in X_val[\"images\"]])\n",
        "X_test_img = np.array([cv2.imread(img,cv2.IMREAD_GRAYSCALE) for img in X_test[\"images\"]])\"\"\"\n",
        "\n",
        "attributes = len(X_train_num.columns)\n",
        "imgs_shape = X_train_img[0].shape\n",
        "\n",
        "print(\"Images shape: \",imgs_shape)\n",
        "print(\"Attributres: \",attributes)\n",
        "pixels=X_train_img[0].shape[0]\n",
        "print(\"Image size (pixels):\", pixels)"
      ]
    },
    {
      "cell_type": "markdown",
      "source": [
        "<a id=\"section5\"></a>\n",
        "# <font color=\"#004D7F\" size=6> 5. Modeling hybrid network with Pytorch</font>"
      ],
      "metadata": {
        "id": "sgjKooAQTB1z"
      }
    },
    {
      "cell_type": "code",
      "source": [
        "# import the necessary packages\n",
        "epochs = 11\n",
        "batch_size_tensor = 50\n",
        "pixeles = 30\n",
        "dropout = 0.5\n",
        "learning_rate = 1e-3"
      ],
      "metadata": {
        "id": "_ziQRKDlWGBg"
      },
      "execution_count": 22,
      "outputs": []
    },
    {
      "cell_type": "markdown",
      "source": [
        "---\n",
        "<a id=\"section52\"></a>\n",
        "# <font color=\"#004D7F\" size=5> 5.1. Transform inputs into tensors</font>\n"
      ],
      "metadata": {
        "id": "Ok8wCO9B47LL"
      }
    },
    {
      "cell_type": "code",
      "source": [
        "trainloader_X_Num = torch.utils.data.DataLoader(np.asarray(X_train_num).astype(np.float32), batch_size=batch_size_tensor, shuffle=False)\n",
        "trainloader_X_img = torch.utils.data.DataLoader(np.asarray(X_train_img).astype(np.float32), batch_size=batch_size_tensor, shuffle=False)\n",
        "trainloader_y = torch.utils.data.DataLoader(np.asarray(y_train).astype(np.float32), batch_size=batch_size_tensor, shuffle=False)\n",
        "\n",
        "trainloader_X_Num_tensors = []\n",
        "trainloader_X_img_tensors = []\n",
        "trainloader_y_tensors = []\n",
        "for input in trainloader_X_Num:\n",
        "  trainloader_X_Num_tensors.append(input)\n",
        "for input in trainloader_X_img:\n",
        "  trainloader_X_img_tensors.append(input)\n",
        "for input in trainloader_y:\n",
        "  trainloader_y_tensors.append(input)"
      ],
      "metadata": {
        "id": "g0-xkNUCWOw1"
      },
      "execution_count": 23,
      "outputs": []
    },
    {
      "cell_type": "code",
      "source": [
        "testloader_X_Num = torch.utils.data.DataLoader(np.asarray(X_test_num).astype(np.float32), batch_size=batch_size_tensor, shuffle=False)\n",
        "testloader_X_img = torch.utils.data.DataLoader(np.asarray(X_test_img).astype(np.float32), batch_size=batch_size_tensor, shuffle=False)\n",
        "testloader_y = torch.utils.data.DataLoader(np.asarray(y_test).astype(np.float32), batch_size=batch_size_tensor, shuffle=False)\n",
        "\n",
        "testloader_X_Num_tensors = []\n",
        "testloader_X_img_tensors = []\n",
        "testloader_y_tensors = []\n",
        "for input in testloader_X_Num:\n",
        "  testloader_X_Num_tensors.append(input)\n",
        "for input in testloader_X_img:\n",
        "  testloader_X_img_tensors.append(input)\n",
        "for input in testloader_y:\n",
        "  testloader_y_tensors.append(input)"
      ],
      "metadata": {
        "id": "v_u-XqGFWQOo"
      },
      "execution_count": 24,
      "outputs": []
    },
    {
      "cell_type": "code",
      "source": [
        "validloader_X_Num = torch.utils.data.DataLoader(np.asarray(X_val_num).astype(np.float32), batch_size=batch_size_tensor, shuffle=False)\n",
        "validloader_X_img = torch.utils.data.DataLoader(np.asarray(X_val_img).astype(np.float32), batch_size=batch_size_tensor, shuffle=False)\n",
        "validloader_y = torch.utils.data.DataLoader(np.asarray(y_val).astype(np.float32), batch_size=batch_size_tensor, shuffle=False)\n",
        "\n",
        "validloader_X_Num_tensors = []\n",
        "validloader_X_img_tensors = []\n",
        "validloader_y_tensors = []\n",
        "for input in validloader_X_Num:\n",
        "  validloader_X_Num_tensors.append(input)\n",
        "for input in validloader_X_img:\n",
        "  validloader_X_img_tensors.append(input)\n",
        "for input in validloader_y:\n",
        "  validloader_y_tensors.append(input)"
      ],
      "metadata": {
        "id": "pwDL2yVmWeti"
      },
      "execution_count": 25,
      "outputs": []
    },
    {
      "cell_type": "markdown",
      "source": [
        "---\n",
        "<a id=\"section52\"></a>\n",
        "# <font color=\"#004D7F\" size=5> 5.2. Network architecture design</font>"
      ],
      "metadata": {
        "id": "9CZlQaAx5Fl5"
      }
    },
    {
      "cell_type": "code",
      "source": [
        "class CNNModel_Rama1(nn.Module):\n",
        "  def __init__(self):\n",
        "    super(CNNModel_Rama1, self).__init__()\n",
        "    self.conv1 = nn.Conv2d(pixeles, 16, kernel_size=(3,3), padding = 2)\n",
        "    self.batchNorm1 = nn.BatchNorm2d(16)\n",
        "    self.act1 = nn.ReLU()\n",
        "    self.MaxPol1 = nn.MaxPool2d(2,2)\n",
        "\n",
        "    self.conv2 = nn.Conv2d(16, 32, kernel_size=(3,3), padding = 2)\n",
        "    self.batchNorm2 = nn.BatchNorm2d(32)\n",
        "    self.act2 = nn.ReLU()\n",
        "    self.MaxPol2 = nn.MaxPool2d(2,2)\n",
        "\n",
        "    self.conv3 = nn.Conv2d(32, 64, kernel_size=(3,3), padding = 2)\n",
        "    self.batchNorm3 = nn.BatchNorm2d(64)\n",
        "    self.act3 = nn.ReLU()\n",
        "    self.MaxPol3 = nn.MaxPool2d(2,2)\n",
        "\n",
        "    self.conv4 = nn.Conv2d(64, 64, kernel_size=(2,2), padding = 3)\n",
        "    self.batchNorm4 = nn.BatchNorm2d(64)\n",
        "    self.act4 = nn.ReLU()\n",
        "    self.MaxPol4 = nn.MaxPool2d(2,2)\n",
        "\n",
        "  def forward(self, x):\n",
        "    x = self.conv1(x)\n",
        "    x = self.batchNorm1(x)\n",
        "    x = self.MaxPol1(x)\n",
        "\n",
        "    x = self.conv2(x)\n",
        "    x = self.batchNorm2(x)\n",
        "    x = self.MaxPol2(x)\n",
        "\n",
        "    x = self.conv3(x)\n",
        "    x = self.batchNorm3(x)\n",
        "    x = self.MaxPol3(x)\n",
        "\n",
        "    x = self.conv4(x)\n",
        "    x = self.batchNorm4(x)\n",
        "    x = self.MaxPol4(x)\n",
        "    return x\n",
        "\n",
        "\n",
        "class CNNModel_Rama2(nn.Module):\n",
        "  def __init__(self):\n",
        "    super(CNNModel_Rama2, self).__init__()\n",
        "    self.conv1 = nn.Conv2d(pixeles, 16, kernel_size=(5,5), padding = 2)\n",
        "    self.batchNorm1 = nn.BatchNorm2d(16)\n",
        "    self.act1 = nn.ReLU()\n",
        "    self.AvgPol1 = nn.AvgPool2d(2,2)\n",
        "\n",
        "    self.conv2 = nn.Conv2d(16, 32, kernel_size=(5,5), padding = 3)\n",
        "    self.batchNorm2 = nn.BatchNorm2d(32)\n",
        "    self.act2 = nn.ReLU()\n",
        "    self.AvgPol2 = nn.AvgPool2d(2,2)\n",
        "\n",
        "    self.conv3 = nn.Conv2d(32, 64, kernel_size=(3,3), padding = 2)\n",
        "    self.batchNorm3 = nn.BatchNorm2d(64)\n",
        "    self.act3 = nn.ReLU()\n",
        "    self.AvgPol3 = nn.AvgPool2d(2,2)\n",
        "\n",
        "    self.conv4 = nn.Conv2d(64, 64, kernel_size=(2,2), padding = 3)\n",
        "    self.batchNorm4 = nn.BatchNorm2d(64)\n",
        "    self.act4 = nn.ReLU()\n",
        "    self.AvgPol4 = nn.AvgPool2d(2,2)\n",
        "\n",
        "  def forward(self, x):\n",
        "    x = self.conv1(x)\n",
        "    x = self.batchNorm1(x)\n",
        "    x = self.AvgPol1(x)\n",
        "\n",
        "    x = self.conv2(x)\n",
        "    x = self.batchNorm2(x)\n",
        "    x = self.AvgPol2(x)\n",
        "\n",
        "    x = self.conv3(x)\n",
        "    x = self.batchNorm3(x)\n",
        "    x = self.AvgPol3(x)\n",
        "\n",
        "    x = self.conv4(x)\n",
        "    x = self.batchNorm4(x)\n",
        "    x = self.AvgPol4(x)\n",
        "    return x\n",
        "\n",
        "class CNNModel_Combinado(nn.Module):\n",
        "  def __init__(self, CNNModel_Rama1, CNNModel_Rama2):\n",
        "    super(CNNModel_Combinado, self).__init__()\n",
        "    self.CNNModel_Rama1 = CNNModel_Rama1\n",
        "    self.CNNModel_Rama2 = CNNModel_Rama2\n",
        "    self.flat = nn.Flatten()\n",
        "    self.fc0 = nn.Linear(1920, 256)\n",
        "    self.act0 = nn.ReLU()\n",
        "    self.fc1 = nn.Linear(256, 128)\n",
        "    self.act1 = nn.Sigmoid()\n",
        "    self.fc2 = nn.Linear(128,64)\n",
        "    self.act2 = nn.ReLU()\n",
        "    self.fc3 = nn.Linear(64,1)\n",
        "    self.act3 = nn.Sigmoid()\n",
        "\n",
        "  def forward(self, x):\n",
        "    x1 = self.CNNModel_Rama1(x)\n",
        "    x2 = self.CNNModel_Rama2(x)\n",
        "    x = torch.cat([x1, x2], dim=1)\n",
        "    x = self.flat(x)\n",
        "    x = self.fc0(x)\n",
        "    x = self.act0(x)\n",
        "    x = self.fc1(x)\n",
        "    x = self.act1(x)\n",
        "    x = self.fc2(x)\n",
        "    x = self.act2(x)\n",
        "    x = self.fc3(x)\n",
        "    x = self.act3(x)\n",
        "    return x\n",
        "\n",
        "class ModeloMLP(nn.Module):\n",
        "  def __init__(self):\n",
        "    super(ModeloMLP, self).__init__()\n",
        "    self.fc1 = nn.Linear(attributes, 64)\n",
        "    self.act1 = nn.ReLU()\n",
        "    self.batchNorm1 = nn.BatchNorm1d(64)\n",
        "    self.Drop1 = nn.Dropout(dropout)\n",
        "\n",
        "    self.fc2 = nn.Linear(64, 32)\n",
        "    self.act2 = nn.ReLU()\n",
        "    self.batchNorm2 = nn.BatchNorm1d(32)\n",
        "    self.Drop2 = nn.Dropout(dropout)\n",
        "\n",
        "    self.fc3 = nn.Linear(32, 1)\n",
        "    self.act3 = nn.ReLU()\n",
        "    self.batchNorm3 = nn.BatchNorm1d(1)\n",
        "    self.Drop3 = nn.Dropout(dropout)\n",
        "\n",
        "  def forward(self, x):\n",
        "    x = self.fc1(x)\n",
        "    x = self.batchNorm1(x)\n",
        "\n",
        "    x = self.fc2(x)\n",
        "    x = self.batchNorm2(x)\n",
        "\n",
        "    x = self.fc3(x)\n",
        "    x = self.batchNorm3(x)\n",
        "    return x\n",
        "\n",
        "class Combined_model(nn.Module):\n",
        "  def __init__(self, CNNModel_Combinado, ModeloMLP):\n",
        "    super(Combined_model, self).__init__()\n",
        "    self.CNNModel_Combinado = CNNModel_Combinado\n",
        "    self.ModeloMLP = ModeloMLP\n",
        "    self.fc1 = nn.Linear(2, 16)\n",
        "    self.act1 = nn.ReLU()\n",
        "    self.fc2 = nn.Linear(16,1)\n",
        "\n",
        "  def forward(self, x1, x2):\n",
        "    x1 = self.CNNModel_Combinado(x1)\n",
        "    x2 = self.ModeloMLP(x2)\n",
        "    x = torch.cat([x1, x2], dim=1)\n",
        "    x = self.fc1(x)\n",
        "    x = self.fc2(x)\n",
        "    return x"
      ],
      "metadata": {
        "id": "TiGz4lhbWnj9"
      },
      "execution_count": 26,
      "outputs": []
    },
    {
      "cell_type": "markdown",
      "source": [
        "---\n",
        "<a id=\"section52\"></a>\n",
        "# <font color=\"#004D7F\" size=5> 5.3. Hybrid Network Compile and fit</font>"
      ],
      "metadata": {
        "id": "f7yRJspw5MVv"
      }
    },
    {
      "cell_type": "code",
      "source": [
        "def r2_loss(y_pred, y_true):\n",
        "    target_mean = torch.mean(y_true)\n",
        "    ss_tot = torch.sum((y_true - target_mean) ** 2)\n",
        "    ss_res = torch.sum((y_true - y_pred) ** 2)\n",
        "    r2 = 1 - ss_res / ss_tot\n",
        "    return r2"
      ],
      "metadata": {
        "id": "CZiZyIuu06ex"
      },
      "execution_count": 27,
      "outputs": []
    },
    {
      "cell_type": "code",
      "source": [
        "import warnings\n",
        "warnings.filterwarnings(\"ignore\")\n",
        "model_cnn_rama1 = CNNModel_Rama1()\n",
        "model_cnn_rama2 = CNNModel_Rama2()\n",
        "model_cnn = CNNModel_Combinado(model_cnn_rama1,model_cnn_rama2)\n",
        "model_MLP = ModeloMLP()\n",
        "model_final = Combined_model(model_cnn, model_MLP)\n",
        "\n",
        "loss_fn = nn.SmoothL1Loss()\n",
        "params = list(model_cnn_rama1.parameters()) + list(model_cnn_rama2.parameters()) + list(model_cnn.parameters()) + list(model_MLP.parameters()) + list(model_final.parameters())\n",
        "optimizer = optim.Adam(params, lr=0.001)\n",
        "\n",
        "# initialize a dictionary to store training history\n",
        "H = {\n",
        "\t\"train_MAE\": [],\n",
        "\t\"train_MSE\": [],\n",
        "\t\"train_R2\": [],\n",
        "\t\"val_MAE\": [],\n",
        "\t\"val_MSE\": [],\n",
        "\t\"val_R2\": [],\n",
        "}\n",
        "\n",
        "for epoch in range(epochs):\n",
        "  gc.collect()\n",
        "  TotalLossTrain = 0\n",
        "  MSE_avg_train = 0\n",
        "  array_valores_reales = []\n",
        "  array_valores_predichos = []\n",
        "\n",
        "\n",
        "  index_batch = 0\n",
        "  model_final.train()\n",
        "  while(index_batch < len(trainloader_X_Num_tensors)):\n",
        "    input_X_Num_train = trainloader_X_Num_tensors[index_batch]\n",
        "    input_X_img_train = trainloader_X_img_tensors[index_batch]\n",
        "    label_train_tensor = trainloader_y_tensors[index_batch]\n",
        "    label_train_tensor = label_train_tensor.unsqueeze(1)\n",
        "    y_pred = model_final(input_X_img_train,input_X_Num_train)\n",
        "    optimizer.zero_grad()\n",
        "    loss = loss_fn(y_pred, label_train_tensor)\n",
        "    loss.backward()\n",
        "    optimizer.step()\n",
        "\n",
        "    i = 0\n",
        "    while(i < len(y_pred)):\n",
        "      valor_real = float(label_train_tensor[i].cpu().detach().numpy())\n",
        "      valor_pred = float(y_pred[i].cpu().detach().numpy())\n",
        "      array_valores_reales.append(valor_real)\n",
        "      array_valores_predichos.append(valor_pred)\n",
        "      i += 1\n",
        "    index_batch += 1\n",
        "\n",
        "  #MSE_avg_train = TotalLossTrain/index_batch\n",
        "  MAE_train = mean_absolute_error(array_valores_reales,array_valores_predichos).round(3)\n",
        "  MSE_train = mean_squared_error(array_valores_reales,array_valores_predichos).round(3)\n",
        "  R2_train = r2_score(array_valores_reales,array_valores_predichos).round(3)\n",
        "  H[\"train_MAE\"].append(MAE_train)\n",
        "  H[\"train_MSE\"].append(MSE_train)\n",
        "  H[\"train_R2\"].append(R2_train)\n",
        "  #print(MSE_avg_train)\n",
        "\n",
        "  TotalLossTest = 0\n",
        "  MSE_avg_test = 0\n",
        "  gc.collect()\n",
        "  array_valores_reales = []\n",
        "  array_valores_predichos = []\n",
        "\n",
        "  #model_final.eval()\n",
        "  with torch.no_grad():\n",
        "    index_batch = 0\n",
        "    while(index_batch < len(testloader_X_Num_tensors)):\n",
        "      input_X_Num_test = testloader_X_Num_tensors[index_batch]\n",
        "      input_X_img_test = testloader_X_img_tensors[index_batch]\n",
        "      label_test_tensor = testloader_y_tensors[index_batch]\n",
        "      label_test_tensor = label_test_tensor.unsqueeze(1)\n",
        "      y_pred = model_final(input_X_img_test, input_X_Num_test)\n",
        "      i = 0\n",
        "      while(i < len(y_pred)):\n",
        "        valor_real = float(label_test_tensor[i].cpu().detach().numpy())\n",
        "        valor_pred = float(y_pred[i].cpu().detach().numpy())\n",
        "        array_valores_reales.append(valor_real)\n",
        "        array_valores_predichos.append(valor_pred)\n",
        "        i += 1\n",
        "      index_batch += 1\n",
        "\n",
        "  #MSE_avg_test = TotalLossTest/index_batch\n",
        "  MAE_val = mean_absolute_error(array_valores_reales,array_valores_predichos).round(3)\n",
        "  MSE_val = mean_squared_error(array_valores_reales,array_valores_predichos).round(3)\n",
        "  R2_val = r2_score(array_valores_reales,array_valores_predichos).round(3)\n",
        "  H[\"val_MAE\"].append(MAE_val)\n",
        "  H[\"val_MSE\"].append(MSE_val)\n",
        "  H[\"val_R2\"].append(R2_val)\n",
        "  #print(MSE_avg_test)\n",
        "\n",
        "  if epoch%2==0:\n",
        "    # print the model training and validation information\n",
        "    print(\"Epoch : \"+str(epoch)+\": -----------------------------\")\n",
        "    print(\"Train MAE: {:.6f}, Train MSE: {:.4f}, Train R2: {:.4f} \".format(MAE_train, MSE_train, R2_train))\n",
        "    print(\"Val MAE: {:.6f}, Val MSE: {:.4f}, Val R2: {:.4f}\\n\".format(MAE_val, MSE_val, R2_val))\n",
        "\n",
        "torch.save(model_final.state_dict(), \"modelo_.pth\")"
      ],
      "metadata": {
        "colab": {
          "base_uri": "https://localhost:8080/"
        },
        "id": "zQVCUJk7pBbL",
        "outputId": "5194ac0d-252a-4e25-8dbd-56e84348b3b0"
      },
      "execution_count": 28,
      "outputs": [
        {
          "output_type": "stream",
          "name": "stdout",
          "text": [
            "Epoch : 0: -----------------------------\n",
            "Train MAE: 8.961000, Train MSE: 133.6570, Train R2: -0.4760 \n",
            "Val MAE: 5.008000, Val MSE: 38.4230, Val R2: 0.5770\n",
            "\n",
            "Epoch : 2: -----------------------------\n",
            "Train MAE: 4.861000, Train MSE: 36.1760, Train R2: 0.6000 \n",
            "Val MAE: 4.922000, Val MSE: 36.9870, Val R2: 0.5930\n",
            "\n",
            "Epoch : 4: -----------------------------\n",
            "Train MAE: 4.854000, Train MSE: 36.1050, Train R2: 0.6010 \n",
            "Val MAE: 4.919000, Val MSE: 36.9300, Val R2: 0.5930\n",
            "\n",
            "Epoch : 6: -----------------------------\n",
            "Train MAE: 4.850000, Train MSE: 36.0740, Train R2: 0.6020 \n",
            "Val MAE: 4.916000, Val MSE: 36.8840, Val R2: 0.5940\n",
            "\n",
            "Epoch : 8: -----------------------------\n",
            "Train MAE: 4.847000, Train MSE: 36.0510, Train R2: 0.6020 \n",
            "Val MAE: 4.915000, Val MSE: 36.8630, Val R2: 0.5940\n",
            "\n",
            "Epoch : 10: -----------------------------\n",
            "Train MAE: 4.845000, Train MSE: 36.0290, Train R2: 0.6020 \n",
            "Val MAE: 4.914000, Val MSE: 36.8530, Val R2: 0.5940\n",
            "\n"
          ]
        }
      ]
    },
    {
      "cell_type": "markdown",
      "source": [
        "---\n",
        "<a id=\"section52\"></a>\n",
        "# <font color=\"#004D7F\" size=5> 5.4. Results and Validation</font>"
      ],
      "metadata": {
        "id": "WOHVaNmL5Siv"
      }
    },
    {
      "cell_type": "code",
      "source": [
        "plt.plot(H[\"train_MSE\"], color = 'red', label = 'MSE')\n",
        "plt.plot(H[\"val_MSE\"], color = 'green', label = 'val MSE')\n",
        "plt.legend(loc = 'upper right')\n",
        "plt.show()"
      ],
      "metadata": {
        "colab": {
          "base_uri": "https://localhost:8080/",
          "height": 430
        },
        "id": "S7q2lzSGkAUL",
        "outputId": "0a14319c-5106-41c8-fada-4a1914637c79"
      },
      "execution_count": 29,
      "outputs": [
        {
          "output_type": "display_data",
          "data": {
            "text/plain": [
              "<Figure size 640x480 with 1 Axes>"
            ],
            "image/png": "[encoded data removed]"
          },
          "metadata": {}
        }
      ]
    },
    {
      "cell_type": "code",
      "source": [
        "plt.plot(H[\"train_MAE\"], color = 'red', label = 'MAE')\n",
        "plt.plot(H[\"val_MAE\"], color = 'green', label = 'val MAE')\n",
        "plt.legend(loc = 'upper right')\n",
        "plt.show()"
      ],
      "metadata": {
        "colab": {
          "base_uri": "https://localhost:8080/",
          "height": 430
        },
        "id": "__v-zxWhk55O",
        "outputId": "e2c0816f-8d0e-4abe-f4c1-2c329859222f"
      },
      "execution_count": 30,
      "outputs": [
        {
          "output_type": "display_data",
          "data": {
            "text/plain": [
              "<Figure size 640x480 with 1 Axes>"
            ],
            "image/png": "[encoded data removed]"
          },
          "metadata": {}
        }
      ]
    },
    {
      "cell_type": "code",
      "source": [
        "plt.plot(H[\"train_R2\"], color = 'red', label = 'R2')\n",
        "plt.plot(H[\"val_R2\"], color = 'green', label = 'val R2')\n",
        "plt.legend(loc = 'upper right')\n",
        "plt.show()"
      ],
      "metadata": {
        "colab": {
          "base_uri": "https://localhost:8080/",
          "height": 430
        },
        "id": "4tSJQ0Y9SRnT",
        "outputId": "8e789ed1-59b9-44f0-bbb6-1e6dfd9be030"
      },
      "execution_count": 31,
      "outputs": [
        {
          "output_type": "display_data",
          "data": {
            "text/plain": [
              "<Figure size 640x480 with 1 Axes>"
            ],
            "image/png": "[encoded data removed]"
          },
          "metadata": {}
        }
      ]
    },
    {
      "cell_type": "code",
      "source": [
        "def Calulate_Metricas_Validacion(modelo, tensores_img, tensores_num, tensores_y_real):\n",
        "  valores_predichos = []\n",
        "  valores_reales = []\n",
        "  ContadorLoss = 0\n",
        "  while(ContadorLoss < len(tensores_img)):\n",
        "    input_img = tensores_img[ContadorLoss]\n",
        "    input_num = tensores_num[ContadorLoss]\n",
        "    label_real = tensores_y_real[ContadorLoss]\n",
        "    label_real = label_real.unsqueeze(1)\n",
        "    y_pred = modelo(input_img, input_num)\n",
        "    i = 0\n",
        "    while(i < len(y_pred)):\n",
        "      valor_real = float(label_real[i].cpu().detach().numpy())\n",
        "      valor_pred = float(y_pred[i].cpu().detach().numpy())\n",
        "      valores_reales.append(valor_real)\n",
        "      valores_predichos.append(valor_pred)\n",
        "      i +=1\n",
        "    ContadorLoss +=1\n",
        "\n",
        "  MAE_val = mean_absolute_error(valores_reales,valores_predichos).round(3)\n",
        "  MSE_val = mean_squared_error(valores_reales,valores_predichos).round(3)\n",
        "  R2_val = r2_score(valores_reales,valores_predichos).round(3)\n",
        "\n",
        "  return valores_predichos, MAE_val, MSE_val,  R2_val"
      ],
      "metadata": {
        "id": "CXVK3KqpxrMc"
      },
      "execution_count": 32,
      "outputs": []
    },
    {
      "cell_type": "code",
      "source": [
        "# Validation model\n",
        "model_cnn_rama1 = CNNModel_Rama1()\n",
        "model_cnn_rama2 = CNNModel_Rama2()\n",
        "model_cnn = CNNModel_Combinado(model_cnn_rama1,model_cnn_rama2)\n",
        "model_MLP = ModeloMLP()\n",
        "model_final = Combined_model(model_cnn, model_MLP)\n",
        "model_final.load_state_dict(torch.load(\"modelo_.pth\"))\n",
        "model_final.eval()\n",
        "valores_predichos_train, MAE_train, MSE_train,  R2_train = Calulate_Metricas_Validacion(model_final, trainloader_X_img_tensors,trainloader_X_Num_tensors, trainloader_y_tensors)\n",
        "valores_predichos_test, MAE_test, MSE_test,  R2_test = Calulate_Metricas_Validacion(model_final, testloader_X_img_tensors,testloader_X_Num_tensors, testloader_y_tensors)\n",
        "valores_predichos_valid, MAE_valid, MSE_valid,  R2_valid = Calulate_Metricas_Validacion(model_final, validloader_X_img_tensors,validloader_X_Num_tensors, validloader_y_tensors)\n"
      ],
      "metadata": {
        "id": "uwbKC8J52ct0"
      },
      "execution_count": 33,
      "outputs": []
    },
    {
      "cell_type": "code",
      "source": [
        "print(\"Train MAE:\",MAE_train)\n",
        "print(\"Train MSE:\",MSE_train)\n",
        "print(\"Train R2:\",R2_train)\n",
        "print(\"===================================\")\n",
        "print(\"Test MAE:\",MAE_test)\n",
        "print(\"Test MSE:\",MSE_test)\n",
        "print(\"Test R2:\",R2_test)\n",
        "print(\"===================================\")\n",
        "print(\"Train MAE:\",MAE_valid)\n",
        "print(\"Train MSE:\",MSE_valid)\n",
        "print(\"Train R2:\",R2_valid)\n"
      ],
      "metadata": {
        "colab": {
          "base_uri": "https://localhost:8080/"
        },
        "id": "8Toya9WQ3lWi",
        "outputId": "cdc06e6a-7481-4078-9537-ea9884a8e660"
      },
      "execution_count": 34,
      "outputs": [
        {
          "output_type": "stream",
          "name": "stdout",
          "text": [
            "Train MAE: 4.769\n",
            "Train MSE: 34.59\n",
            "Train R2: 0.618\n",
            "===================================\n",
            "Test MAE: 4.824\n",
            "Test MSE: 35.227\n",
            "Test R2: 0.612\n",
            "===================================\n",
            "Train MAE: 4.722\n",
            "Train MSE: 34.401\n",
            "Train R2: 0.63\n"
          ]
        }
      ]
    }
  ],
  "metadata": {
    "accelerator": "GPU",
    "colab": {
      "gpuType": "T4",
      "provenance": [],
      "include_colab_link": true
    },
    "kernelspec": {
      "display_name": "Python 3 (ipykernel)",
      "language": "python",
      "name": "python3"
    },
    "language_info": {
      "codemirror_mode": {
        "name": "ipython",
        "version": 3
      },
      "file_extension": ".py",
      "mimetype": "text/x-python",
      "name": "python",
      "nbconvert_exporter": "python",
      "pygments_lexer": "ipython3",
      "version": "3.10.12"
    }
  },
  "nbformat": 4,
  "nbformat_minor": 0
}